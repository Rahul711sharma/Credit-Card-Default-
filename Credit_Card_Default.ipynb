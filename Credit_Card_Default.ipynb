{
  "nbformat": 4,
  "nbformat_minor": 0,
  "metadata": {
    "colab": {
      "name": "Credit_Card_Default.ipynb",
      "provenance": [],
      "collapsed_sections": [],
      "include_colab_link": true
    },
    "kernelspec": {
      "display_name": "Python 3",
      "name": "python3"
    },
    "language_info": {
      "name": "python"
    }
  },
  "cells": [
    {
      "cell_type": "markdown",
      "metadata": {
        "id": "view-in-github",
        "colab_type": "text"
      },
      "source": [
        "<a href=\"https://colab.research.google.com/github/Rahul711sharma/Credit-Card-Default-/blob/main/Credit_Card_Default.ipynb\" target=\"_parent\"><img src=\"https://colab.research.google.com/assets/colab-badge.svg\" alt=\"Open In Colab\"/></a>"
      ]
    },
    {
      "cell_type": "markdown",
      "metadata": {
        "id": "nVZvE8wX9KSm"
      },
      "source": [
        "## **Objective**\n",
        "\n",
        "* ## To predict the chances of Credit Card Default made by the Client."
      ]
    },
    {
      "cell_type": "markdown",
      "metadata": {
        "id": "AkRGAEzQv8-3"
      },
      "source": [
        "\n",
        "## <b> Data Description </b>\n",
        "\n",
        "### <b>Attribute Information: </b>\n",
        "\n",
        "### This research employed a binary variable, default payment (Yes = 1, No = 0), as the response variable. This study reviewed the literature and used the following 23 variables as explanatory variables:\n",
        "* ### X1: Amount of the given credit (NT dollar): it includes both the individual consumer credit and his/her family (supplementary) credit.\n",
        "* ### X2: Gender (1 = male; 2 = female).\n",
        "* ### X3: Education (1 = graduate school; 2 = university; 3 = high school; 4 = others).\n",
        "* ### X4: Marital status (1 = married; 2 = single; 3 = others).\n",
        "* ### X5: Age (year).\n",
        "* ### X6 - X11: History of past payment. We tracked the past monthly payment records (from April to September, 2005) as follows: X6 = the repayment status in September, 2005; X7 = the repayment status in August, 2005; . . .;X11 = the repayment status in April, 2005. The measurement scale for the repayment status is: -1 = pay duly; 1 = payment delay for one month; 2 = payment delay for two months; . . .; 8 = payment delay for eight months; 9 = payment delay for nine months and above.\n",
        "* ### X12-X17: Amount of bill statement (NT dollar). X12 = amount of bill statement in September, 2005; X13 = amount of bill statement in August, 2005; . . .; X17 = amount of bill statement in April, 2005.\n",
        "* ### X18-X23: Amount of previous payment (NT dollar). X18 = amount paid in September, 2005; X19 = amount paid in August, 2005; . . .;X23 = amount paid in April, 2005."
      ]
    },
    {
      "cell_type": "markdown",
      "metadata": {
        "id": "t-5MLaJ99kpl"
      },
      "source": [
        "##Importing Libraries"
      ]
    },
    {
      "cell_type": "code",
      "metadata": {
        "colab": {
          "base_uri": "https://localhost:8080/"
        },
        "id": "x4_Sz4FTpsox",
        "outputId": "c9a17136-c35e-49f8-ab36-364094591a27"
      },
      "source": [
        "!pip install pyspark\n",
        "!pip install -U -q PyDrive\n",
        "!apt install openjdk-8-jdk-headless -qq\n",
        "import os\n",
        "os.environ[\"JAVA_HOME\"] = \"/usr/lib/jvm/java-8-openjdk-amd64\""
      ],
      "execution_count": 12,
      "outputs": [
        {
          "output_type": "stream",
          "text": [
            "Requirement already satisfied: pyspark in /usr/local/lib/python3.7/dist-packages (3.1.2)\n",
            "Requirement already satisfied: py4j==0.10.9 in /usr/local/lib/python3.7/dist-packages (from pyspark) (0.10.9)\n",
            "openjdk-8-jdk-headless is already the newest version (8u292-b10-0ubuntu1~18.04).\n",
            "0 upgraded, 0 newly installed, 0 to remove and 39 not upgraded.\n"
          ],
          "name": "stdout"
        }
      ]
    },
    {
      "cell_type": "code",
      "metadata": {
        "id": "BOA0fLAnqGfJ"
      },
      "source": [
        "import pyspark\n",
        "import pyspark.sql as sql"
      ],
      "execution_count": 13,
      "outputs": []
    },
    {
      "cell_type": "code",
      "metadata": {
        "id": "bROwcyB1pGFz"
      },
      "source": [
        "import pandas as pd\n",
        "import numpy as np\n",
        "import matplotlib.pyplot as plt\n",
        "import seaborn as sns\n",
        "from plotnine import *\n",
        "import plotly.express as pe\n",
        "import sklearn.metrics as met\n",
        "%matplotlib inline"
      ],
      "execution_count": 14,
      "outputs": []
    },
    {
      "cell_type": "code",
      "metadata": {
        "id": "Jrp8lc3nrpaW"
      },
      "source": [
        "sc = pyspark.SparkContext()"
      ],
      "execution_count": 15,
      "outputs": []
    },
    {
      "cell_type": "code",
      "metadata": {
        "id": "d8FUlV3erzXQ"
      },
      "source": [
        "sqlContext = pyspark.SQLContext(sc)"
      ],
      "execution_count": 16,
      "outputs": []
    },
    {
      "cell_type": "markdown",
      "metadata": {
        "id": "C8ocSX2z-qqn"
      },
      "source": [
        "## Importing Data"
      ]
    },
    {
      "cell_type": "code",
      "metadata": {
        "id": "vfcoX3dByN_Z",
        "colab": {
          "base_uri": "https://localhost:8080/",
          "height": 230
        },
        "outputId": "3b248447-b729-4340-d3ee-adec9a139ed5"
      },
      "source": [
        "df = pd.read_excel(\"https://raw.githubusercontent.com/Rahul711sharma/Credit-Card-Default-/main/default%20of%20credit%20card%20clients.xls\")\n",
        "df.head(3)\n"
      ],
      "execution_count": 17,
      "outputs": [
        {
          "output_type": "execute_result",
          "data": {
            "text/html": [
              "<div>\n",
              "<style scoped>\n",
              "    .dataframe tbody tr th:only-of-type {\n",
              "        vertical-align: middle;\n",
              "    }\n",
              "\n",
              "    .dataframe tbody tr th {\n",
              "        vertical-align: top;\n",
              "    }\n",
              "\n",
              "    .dataframe thead th {\n",
              "        text-align: right;\n",
              "    }\n",
              "</style>\n",
              "<table border=\"1\" class=\"dataframe\">\n",
              "  <thead>\n",
              "    <tr style=\"text-align: right;\">\n",
              "      <th></th>\n",
              "      <th>Unnamed: 0</th>\n",
              "      <th>X1</th>\n",
              "      <th>X2</th>\n",
              "      <th>X3</th>\n",
              "      <th>X4</th>\n",
              "      <th>X5</th>\n",
              "      <th>X6</th>\n",
              "      <th>X7</th>\n",
              "      <th>X8</th>\n",
              "      <th>X9</th>\n",
              "      <th>X10</th>\n",
              "      <th>X11</th>\n",
              "      <th>X12</th>\n",
              "      <th>X13</th>\n",
              "      <th>X14</th>\n",
              "      <th>X15</th>\n",
              "      <th>X16</th>\n",
              "      <th>X17</th>\n",
              "      <th>X18</th>\n",
              "      <th>X19</th>\n",
              "      <th>X20</th>\n",
              "      <th>X21</th>\n",
              "      <th>X22</th>\n",
              "      <th>X23</th>\n",
              "      <th>Y</th>\n",
              "    </tr>\n",
              "  </thead>\n",
              "  <tbody>\n",
              "    <tr>\n",
              "      <th>0</th>\n",
              "      <td>ID</td>\n",
              "      <td>LIMIT_BAL</td>\n",
              "      <td>SEX</td>\n",
              "      <td>EDUCATION</td>\n",
              "      <td>MARRIAGE</td>\n",
              "      <td>AGE</td>\n",
              "      <td>PAY_0</td>\n",
              "      <td>PAY_2</td>\n",
              "      <td>PAY_3</td>\n",
              "      <td>PAY_4</td>\n",
              "      <td>PAY_5</td>\n",
              "      <td>PAY_6</td>\n",
              "      <td>BILL_AMT1</td>\n",
              "      <td>BILL_AMT2</td>\n",
              "      <td>BILL_AMT3</td>\n",
              "      <td>BILL_AMT4</td>\n",
              "      <td>BILL_AMT5</td>\n",
              "      <td>BILL_AMT6</td>\n",
              "      <td>PAY_AMT1</td>\n",
              "      <td>PAY_AMT2</td>\n",
              "      <td>PAY_AMT3</td>\n",
              "      <td>PAY_AMT4</td>\n",
              "      <td>PAY_AMT5</td>\n",
              "      <td>PAY_AMT6</td>\n",
              "      <td>default payment next month</td>\n",
              "    </tr>\n",
              "    <tr>\n",
              "      <th>1</th>\n",
              "      <td>1</td>\n",
              "      <td>20000</td>\n",
              "      <td>2</td>\n",
              "      <td>2</td>\n",
              "      <td>1</td>\n",
              "      <td>24</td>\n",
              "      <td>2</td>\n",
              "      <td>2</td>\n",
              "      <td>-1</td>\n",
              "      <td>-1</td>\n",
              "      <td>-2</td>\n",
              "      <td>-2</td>\n",
              "      <td>3913</td>\n",
              "      <td>3102</td>\n",
              "      <td>689</td>\n",
              "      <td>0</td>\n",
              "      <td>0</td>\n",
              "      <td>0</td>\n",
              "      <td>0</td>\n",
              "      <td>689</td>\n",
              "      <td>0</td>\n",
              "      <td>0</td>\n",
              "      <td>0</td>\n",
              "      <td>0</td>\n",
              "      <td>1</td>\n",
              "    </tr>\n",
              "    <tr>\n",
              "      <th>2</th>\n",
              "      <td>2</td>\n",
              "      <td>120000</td>\n",
              "      <td>2</td>\n",
              "      <td>2</td>\n",
              "      <td>2</td>\n",
              "      <td>26</td>\n",
              "      <td>-1</td>\n",
              "      <td>2</td>\n",
              "      <td>0</td>\n",
              "      <td>0</td>\n",
              "      <td>0</td>\n",
              "      <td>2</td>\n",
              "      <td>2682</td>\n",
              "      <td>1725</td>\n",
              "      <td>2682</td>\n",
              "      <td>3272</td>\n",
              "      <td>3455</td>\n",
              "      <td>3261</td>\n",
              "      <td>0</td>\n",
              "      <td>1000</td>\n",
              "      <td>1000</td>\n",
              "      <td>1000</td>\n",
              "      <td>0</td>\n",
              "      <td>2000</td>\n",
              "      <td>1</td>\n",
              "    </tr>\n",
              "  </tbody>\n",
              "</table>\n",
              "</div>"
            ],
            "text/plain": [
              "  Unnamed: 0         X1   X2  ...       X22       X23                           Y\n",
              "0         ID  LIMIT_BAL  SEX  ...  PAY_AMT5  PAY_AMT6  default payment next month\n",
              "1          1      20000    2  ...         0         0                           1\n",
              "2          2     120000    2  ...         0      2000                           1\n",
              "\n",
              "[3 rows x 25 columns]"
            ]
          },
          "metadata": {
            "tags": []
          },
          "execution_count": 17
        }
      ]
    },
    {
      "cell_type": "code",
      "metadata": {
        "colab": {
          "base_uri": "https://localhost:8080/",
          "height": 275
        },
        "id": "Lltg1WU-y6Sv",
        "outputId": "bf934228-9ae2-4302-9504-c362da9eed3c"
      },
      "source": [
        "df = pd.read_excel(\"https://raw.githubusercontent.com/Rahul711sharma/Credit-Card-Default-/main/default%20of%20credit%20card%20clients.xls\",header=1)\n",
        "df.head()"
      ],
      "execution_count": 18,
      "outputs": [
        {
          "output_type": "execute_result",
          "data": {
            "text/html": [
              "<div>\n",
              "<style scoped>\n",
              "    .dataframe tbody tr th:only-of-type {\n",
              "        vertical-align: middle;\n",
              "    }\n",
              "\n",
              "    .dataframe tbody tr th {\n",
              "        vertical-align: top;\n",
              "    }\n",
              "\n",
              "    .dataframe thead th {\n",
              "        text-align: right;\n",
              "    }\n",
              "</style>\n",
              "<table border=\"1\" class=\"dataframe\">\n",
              "  <thead>\n",
              "    <tr style=\"text-align: right;\">\n",
              "      <th></th>\n",
              "      <th>ID</th>\n",
              "      <th>LIMIT_BAL</th>\n",
              "      <th>SEX</th>\n",
              "      <th>EDUCATION</th>\n",
              "      <th>MARRIAGE</th>\n",
              "      <th>AGE</th>\n",
              "      <th>PAY_0</th>\n",
              "      <th>PAY_2</th>\n",
              "      <th>PAY_3</th>\n",
              "      <th>PAY_4</th>\n",
              "      <th>PAY_5</th>\n",
              "      <th>PAY_6</th>\n",
              "      <th>BILL_AMT1</th>\n",
              "      <th>BILL_AMT2</th>\n",
              "      <th>BILL_AMT3</th>\n",
              "      <th>BILL_AMT4</th>\n",
              "      <th>BILL_AMT5</th>\n",
              "      <th>BILL_AMT6</th>\n",
              "      <th>PAY_AMT1</th>\n",
              "      <th>PAY_AMT2</th>\n",
              "      <th>PAY_AMT3</th>\n",
              "      <th>PAY_AMT4</th>\n",
              "      <th>PAY_AMT5</th>\n",
              "      <th>PAY_AMT6</th>\n",
              "      <th>default payment next month</th>\n",
              "    </tr>\n",
              "  </thead>\n",
              "  <tbody>\n",
              "    <tr>\n",
              "      <th>0</th>\n",
              "      <td>1</td>\n",
              "      <td>20000</td>\n",
              "      <td>2</td>\n",
              "      <td>2</td>\n",
              "      <td>1</td>\n",
              "      <td>24</td>\n",
              "      <td>2</td>\n",
              "      <td>2</td>\n",
              "      <td>-1</td>\n",
              "      <td>-1</td>\n",
              "      <td>-2</td>\n",
              "      <td>-2</td>\n",
              "      <td>3913</td>\n",
              "      <td>3102</td>\n",
              "      <td>689</td>\n",
              "      <td>0</td>\n",
              "      <td>0</td>\n",
              "      <td>0</td>\n",
              "      <td>0</td>\n",
              "      <td>689</td>\n",
              "      <td>0</td>\n",
              "      <td>0</td>\n",
              "      <td>0</td>\n",
              "      <td>0</td>\n",
              "      <td>1</td>\n",
              "    </tr>\n",
              "    <tr>\n",
              "      <th>1</th>\n",
              "      <td>2</td>\n",
              "      <td>120000</td>\n",
              "      <td>2</td>\n",
              "      <td>2</td>\n",
              "      <td>2</td>\n",
              "      <td>26</td>\n",
              "      <td>-1</td>\n",
              "      <td>2</td>\n",
              "      <td>0</td>\n",
              "      <td>0</td>\n",
              "      <td>0</td>\n",
              "      <td>2</td>\n",
              "      <td>2682</td>\n",
              "      <td>1725</td>\n",
              "      <td>2682</td>\n",
              "      <td>3272</td>\n",
              "      <td>3455</td>\n",
              "      <td>3261</td>\n",
              "      <td>0</td>\n",
              "      <td>1000</td>\n",
              "      <td>1000</td>\n",
              "      <td>1000</td>\n",
              "      <td>0</td>\n",
              "      <td>2000</td>\n",
              "      <td>1</td>\n",
              "    </tr>\n",
              "    <tr>\n",
              "      <th>2</th>\n",
              "      <td>3</td>\n",
              "      <td>90000</td>\n",
              "      <td>2</td>\n",
              "      <td>2</td>\n",
              "      <td>2</td>\n",
              "      <td>34</td>\n",
              "      <td>0</td>\n",
              "      <td>0</td>\n",
              "      <td>0</td>\n",
              "      <td>0</td>\n",
              "      <td>0</td>\n",
              "      <td>0</td>\n",
              "      <td>29239</td>\n",
              "      <td>14027</td>\n",
              "      <td>13559</td>\n",
              "      <td>14331</td>\n",
              "      <td>14948</td>\n",
              "      <td>15549</td>\n",
              "      <td>1518</td>\n",
              "      <td>1500</td>\n",
              "      <td>1000</td>\n",
              "      <td>1000</td>\n",
              "      <td>1000</td>\n",
              "      <td>5000</td>\n",
              "      <td>0</td>\n",
              "    </tr>\n",
              "    <tr>\n",
              "      <th>3</th>\n",
              "      <td>4</td>\n",
              "      <td>50000</td>\n",
              "      <td>2</td>\n",
              "      <td>2</td>\n",
              "      <td>1</td>\n",
              "      <td>37</td>\n",
              "      <td>0</td>\n",
              "      <td>0</td>\n",
              "      <td>0</td>\n",
              "      <td>0</td>\n",
              "      <td>0</td>\n",
              "      <td>0</td>\n",
              "      <td>46990</td>\n",
              "      <td>48233</td>\n",
              "      <td>49291</td>\n",
              "      <td>28314</td>\n",
              "      <td>28959</td>\n",
              "      <td>29547</td>\n",
              "      <td>2000</td>\n",
              "      <td>2019</td>\n",
              "      <td>1200</td>\n",
              "      <td>1100</td>\n",
              "      <td>1069</td>\n",
              "      <td>1000</td>\n",
              "      <td>0</td>\n",
              "    </tr>\n",
              "    <tr>\n",
              "      <th>4</th>\n",
              "      <td>5</td>\n",
              "      <td>50000</td>\n",
              "      <td>1</td>\n",
              "      <td>2</td>\n",
              "      <td>1</td>\n",
              "      <td>57</td>\n",
              "      <td>-1</td>\n",
              "      <td>0</td>\n",
              "      <td>-1</td>\n",
              "      <td>0</td>\n",
              "      <td>0</td>\n",
              "      <td>0</td>\n",
              "      <td>8617</td>\n",
              "      <td>5670</td>\n",
              "      <td>35835</td>\n",
              "      <td>20940</td>\n",
              "      <td>19146</td>\n",
              "      <td>19131</td>\n",
              "      <td>2000</td>\n",
              "      <td>36681</td>\n",
              "      <td>10000</td>\n",
              "      <td>9000</td>\n",
              "      <td>689</td>\n",
              "      <td>679</td>\n",
              "      <td>0</td>\n",
              "    </tr>\n",
              "  </tbody>\n",
              "</table>\n",
              "</div>"
            ],
            "text/plain": [
              "   ID  LIMIT_BAL  SEX  ...  PAY_AMT5  PAY_AMT6  default payment next month\n",
              "0   1      20000    2  ...         0         0                           1\n",
              "1   2     120000    2  ...         0      2000                           1\n",
              "2   3      90000    2  ...      1000      5000                           0\n",
              "3   4      50000    2  ...      1069      1000                           0\n",
              "4   5      50000    1  ...       689       679                           0\n",
              "\n",
              "[5 rows x 25 columns]"
            ]
          },
          "metadata": {
            "tags": []
          },
          "execution_count": 18
        }
      ]
    },
    {
      "cell_type": "code",
      "metadata": {
        "id": "jMRJv_ncpt5C"
      },
      "source": [
        "sql_df = sqlContext.createDataFrame(df)"
      ],
      "execution_count": 19,
      "outputs": []
    },
    {
      "cell_type": "code",
      "metadata": {
        "id": "Sg3OKIOC1wjv"
      },
      "source": [
        "spark = pyspark.sql.SparkSession.builder.getOrCreate()"
      ],
      "execution_count": 20,
      "outputs": []
    },
    {
      "cell_type": "code",
      "metadata": {
        "colab": {
          "base_uri": "https://localhost:8080/"
        },
        "id": "S0YUw3_zscS0",
        "outputId": "05ea89af-c81e-4e7d-f2fe-fbe422d9ad65"
      },
      "source": [
        "sql_df.select('*').limit(10).show()"
      ],
      "execution_count": 21,
      "outputs": [
        {
          "output_type": "stream",
          "text": [
            "+---+---------+---+---------+--------+---+-----+-----+-----+-----+-----+-----+---------+---------+---------+---------+---------+---------+--------+--------+--------+--------+--------+--------+--------------------------+\n",
            "| ID|LIMIT_BAL|SEX|EDUCATION|MARRIAGE|AGE|PAY_0|PAY_2|PAY_3|PAY_4|PAY_5|PAY_6|BILL_AMT1|BILL_AMT2|BILL_AMT3|BILL_AMT4|BILL_AMT5|BILL_AMT6|PAY_AMT1|PAY_AMT2|PAY_AMT3|PAY_AMT4|PAY_AMT5|PAY_AMT6|default payment next month|\n",
            "+---+---------+---+---------+--------+---+-----+-----+-----+-----+-----+-----+---------+---------+---------+---------+---------+---------+--------+--------+--------+--------+--------+--------+--------------------------+\n",
            "|  1|    20000|  2|        2|       1| 24|    2|    2|   -1|   -1|   -2|   -2|     3913|     3102|      689|        0|        0|        0|       0|     689|       0|       0|       0|       0|                         1|\n",
            "|  2|   120000|  2|        2|       2| 26|   -1|    2|    0|    0|    0|    2|     2682|     1725|     2682|     3272|     3455|     3261|       0|    1000|    1000|    1000|       0|    2000|                         1|\n",
            "|  3|    90000|  2|        2|       2| 34|    0|    0|    0|    0|    0|    0|    29239|    14027|    13559|    14331|    14948|    15549|    1518|    1500|    1000|    1000|    1000|    5000|                         0|\n",
            "|  4|    50000|  2|        2|       1| 37|    0|    0|    0|    0|    0|    0|    46990|    48233|    49291|    28314|    28959|    29547|    2000|    2019|    1200|    1100|    1069|    1000|                         0|\n",
            "|  5|    50000|  1|        2|       1| 57|   -1|    0|   -1|    0|    0|    0|     8617|     5670|    35835|    20940|    19146|    19131|    2000|   36681|   10000|    9000|     689|     679|                         0|\n",
            "|  6|    50000|  1|        1|       2| 37|    0|    0|    0|    0|    0|    0|    64400|    57069|    57608|    19394|    19619|    20024|    2500|    1815|     657|    1000|    1000|     800|                         0|\n",
            "|  7|   500000|  1|        1|       2| 29|    0|    0|    0|    0|    0|    0|   367965|   412023|   445007|   542653|   483003|   473944|   55000|   40000|   38000|   20239|   13750|   13770|                         0|\n",
            "|  8|   100000|  2|        2|       2| 23|    0|   -1|   -1|    0|    0|   -1|    11876|      380|      601|      221|     -159|      567|     380|     601|       0|     581|    1687|    1542|                         0|\n",
            "|  9|   140000|  2|        3|       1| 28|    0|    0|    2|    0|    0|    0|    11285|    14096|    12108|    12211|    11793|     3719|    3329|       0|     432|    1000|    1000|    1000|                         0|\n",
            "| 10|    20000|  1|        3|       2| 35|   -2|   -2|   -2|   -2|   -1|   -1|        0|        0|        0|        0|    13007|    13912|       0|       0|       0|   13007|    1122|       0|                         0|\n",
            "+---+---------+---+---------+--------+---+-----+-----+-----+-----+-----+-----+---------+---------+---------+---------+---------+---------+--------+--------+--------+--------+--------+--------+--------------------------+\n",
            "\n"
          ],
          "name": "stdout"
        }
      ]
    },
    {
      "cell_type": "markdown",
      "metadata": {
        "id": "V7dUwoSB-2JD"
      },
      "source": [
        "## Describe Data"
      ]
    },
    {
      "cell_type": "code",
      "metadata": {
        "colab": {
          "base_uri": "https://localhost:8080/"
        },
        "id": "HoNKGsHQxk8C",
        "outputId": "30d29c5d-a01f-4a6f-aadc-93f836314ea9"
      },
      "source": [
        "sql_df.printSchema()"
      ],
      "execution_count": 22,
      "outputs": [
        {
          "output_type": "stream",
          "text": [
            "root\n",
            " |-- ID: long (nullable = true)\n",
            " |-- LIMIT_BAL: long (nullable = true)\n",
            " |-- SEX: long (nullable = true)\n",
            " |-- EDUCATION: long (nullable = true)\n",
            " |-- MARRIAGE: long (nullable = true)\n",
            " |-- AGE: long (nullable = true)\n",
            " |-- PAY_0: long (nullable = true)\n",
            " |-- PAY_2: long (nullable = true)\n",
            " |-- PAY_3: long (nullable = true)\n",
            " |-- PAY_4: long (nullable = true)\n",
            " |-- PAY_5: long (nullable = true)\n",
            " |-- PAY_6: long (nullable = true)\n",
            " |-- BILL_AMT1: long (nullable = true)\n",
            " |-- BILL_AMT2: long (nullable = true)\n",
            " |-- BILL_AMT3: long (nullable = true)\n",
            " |-- BILL_AMT4: long (nullable = true)\n",
            " |-- BILL_AMT5: long (nullable = true)\n",
            " |-- BILL_AMT6: long (nullable = true)\n",
            " |-- PAY_AMT1: long (nullable = true)\n",
            " |-- PAY_AMT2: long (nullable = true)\n",
            " |-- PAY_AMT3: long (nullable = true)\n",
            " |-- PAY_AMT4: long (nullable = true)\n",
            " |-- PAY_AMT5: long (nullable = true)\n",
            " |-- PAY_AMT6: long (nullable = true)\n",
            " |-- default payment next month: long (nullable = true)\n",
            "\n"
          ],
          "name": "stdout"
        }
      ]
    },
    {
      "cell_type": "code",
      "metadata": {
        "colab": {
          "base_uri": "https://localhost:8080/"
        },
        "id": "1dK5WBHAscaq",
        "outputId": "59fc8cd4-4581-4ff6-ce2e-1dc4ca485d99"
      },
      "source": [
        "sql_df.summary().show()"
      ],
      "execution_count": 23,
      "outputs": [
        {
          "output_type": "stream",
          "text": [
            "+-------+-----------------+------------------+------------------+------------------+------------------+-----------------+-----------------+--------------------+------------------+--------------------+------------------+-----------------+-----------------+-----------------+-----------------+-----------------+------------------+-----------------+------------------+------------------+-----------------+------------------+------------------+-----------------+--------------------------+\n",
            "|summary|               ID|         LIMIT_BAL|               SEX|         EDUCATION|          MARRIAGE|              AGE|            PAY_0|               PAY_2|             PAY_3|               PAY_4|             PAY_5|            PAY_6|        BILL_AMT1|        BILL_AMT2|        BILL_AMT3|        BILL_AMT4|         BILL_AMT5|        BILL_AMT6|          PAY_AMT1|          PAY_AMT2|         PAY_AMT3|          PAY_AMT4|          PAY_AMT5|         PAY_AMT6|default payment next month|\n",
            "+-------+-----------------+------------------+------------------+------------------+------------------+-----------------+-----------------+--------------------+------------------+--------------------+------------------+-----------------+-----------------+-----------------+-----------------+-----------------+------------------+-----------------+------------------+------------------+-----------------+------------------+------------------+-----------------+--------------------------+\n",
            "|  count|            30000|             30000|             30000|             30000|             30000|            30000|            30000|               30000|             30000|               30000|             30000|            30000|            30000|            30000|            30000|            30000|             30000|            30000|             30000|             30000|            30000|             30000|             30000|            30000|                     30000|\n",
            "|   mean|          15000.5|167484.32266666667|1.6037333333333332|1.8531333333333333|1.5518666666666667|          35.4855|          -0.0167|-0.13376666666666667|           -0.1662|-0.22066666666666668|           -0.2662|          -0.2911|       51223.3309|49179.07516666667|       47013.1548|43262.94896666666| 40311.40096666667|       38871.7604|         5663.5805|         5921.1635|        5225.6815| 4826.076866666666| 4799.387633333334|5215.502566666667|                    0.2212|\n",
            "| stddev|8660.398374208891|129747.66156720229|0.4891291960902604|0.7903486597207277|0.5219696006132492|9.217904068090181|1.123801527997337|   1.197185973034552|1.1968675684465728|   1.169138622402338|1.1331874060027494|1.149987625607904|73635.86057552969|71173.76878252844|69349.38742703678|64332.85613391638|60797.155770264864|59554.10753674585|16563.280354025774|23040.870402057244|17606.96146980311|15666.159744032026|15278.305679144814|17777.46577543534|       0.41506180569093265|\n",
            "|    min|                1|             10000|                 1|                 0|                 0|               21|               -2|                  -2|                -2|                  -2|                -2|               -2|          -165580|           -69777|          -157264|          -170000|            -81334|          -339603|                 0|                 0|                0|                 0|                 0|                0|                         0|\n",
            "|    25%|             7499|             50000|                 1|                 1|                 1|               28|               -1|                  -1|                -1|                  -1|                -1|               -1|             3557|             2984|             2663|             2320|              1761|             1255|              1000|               832|              390|               295|               251|              116|                         0|\n",
            "|    50%|            14999|            140000|                 2|                 2|                 2|               34|                0|                   0|                 0|                   0|                 0|                0|            22373|            21191|            20086|            19040|             18100|            17063|              2100|              2009|             1800|              1500|              1500|             1500|                         0|\n",
            "|    75%|            22501|            240000|                 2|                 2|                 2|               41|                0|                   0|                 0|                   0|                 0|                0|            67065|            63992|            60158|            54472|             50170|            49147|              5006|              5000|             4503|              4012|              4030|             4000|                         0|\n",
            "|    max|            30000|           1000000|                 2|                 6|                 3|               79|                8|                   8|                 8|                   8|                 8|                8|           964511|           983931|          1664089|           891586|            927171|           961664|            873552|           1684259|           896040|            621000|            426529|           528666|                         1|\n",
            "+-------+-----------------+------------------+------------------+------------------+------------------+-----------------+-----------------+--------------------+------------------+--------------------+------------------+-----------------+-----------------+-----------------+-----------------+-----------------+------------------+-----------------+------------------+------------------+-----------------+------------------+------------------+-----------------+--------------------------+\n",
            "\n"
          ],
          "name": "stdout"
        }
      ]
    },
    {
      "cell_type": "code",
      "metadata": {
        "colab": {
          "base_uri": "https://localhost:8080/"
        },
        "id": "rO5Tmeej33BJ",
        "outputId": "b436baa9-5378-4ec5-b0e5-f897d01ff139"
      },
      "source": [
        "type(sql_df)"
      ],
      "execution_count": 24,
      "outputs": [
        {
          "output_type": "execute_result",
          "data": {
            "text/plain": [
              "pyspark.sql.dataframe.DataFrame"
            ]
          },
          "metadata": {
            "tags": []
          },
          "execution_count": 24
        }
      ]
    },
    {
      "cell_type": "code",
      "metadata": {
        "colab": {
          "base_uri": "https://localhost:8080/"
        },
        "id": "oZIUAOH1FhKP",
        "outputId": "2421b626-0c01-4368-f927-b3abd9c34a52"
      },
      "source": [
        "sql_df.toPandas().shape"
      ],
      "execution_count": 25,
      "outputs": [
        {
          "output_type": "execute_result",
          "data": {
            "text/plain": [
              "(30000, 25)"
            ]
          },
          "metadata": {
            "tags": []
          },
          "execution_count": 25
        }
      ]
    },
    {
      "cell_type": "markdown",
      "metadata": {
        "id": "5FKPwE5D-8yd"
      },
      "source": [
        "##Null Values In data"
      ]
    },
    {
      "cell_type": "code",
      "metadata": {
        "colab": {
          "base_uri": "https://localhost:8080/"
        },
        "id": "BOzLlM5Y33QH",
        "outputId": "d3e13f7e-c406-4d5d-a611-123f4f9c2ccf"
      },
      "source": [
        "sql_df.filter(sql_df.SEX.isNull()).count()"
      ],
      "execution_count": 26,
      "outputs": [
        {
          "output_type": "execute_result",
          "data": {
            "text/plain": [
              "0"
            ]
          },
          "metadata": {
            "tags": []
          },
          "execution_count": 26
        }
      ]
    },
    {
      "cell_type": "code",
      "metadata": {
        "colab": {
          "base_uri": "https://localhost:8080/"
        },
        "id": "2bJtDAOHscgB",
        "outputId": "d56f5b55-fdf9-4f74-f852-7cbd8af0a271"
      },
      "source": [
        "sql_df.toPandas().isna().sum()"
      ],
      "execution_count": 27,
      "outputs": [
        {
          "output_type": "execute_result",
          "data": {
            "text/plain": [
              "ID                            0\n",
              "LIMIT_BAL                     0\n",
              "SEX                           0\n",
              "EDUCATION                     0\n",
              "MARRIAGE                      0\n",
              "AGE                           0\n",
              "PAY_0                         0\n",
              "PAY_2                         0\n",
              "PAY_3                         0\n",
              "PAY_4                         0\n",
              "PAY_5                         0\n",
              "PAY_6                         0\n",
              "BILL_AMT1                     0\n",
              "BILL_AMT2                     0\n",
              "BILL_AMT3                     0\n",
              "BILL_AMT4                     0\n",
              "BILL_AMT5                     0\n",
              "BILL_AMT6                     0\n",
              "PAY_AMT1                      0\n",
              "PAY_AMT2                      0\n",
              "PAY_AMT3                      0\n",
              "PAY_AMT4                      0\n",
              "PAY_AMT5                      0\n",
              "PAY_AMT6                      0\n",
              "default payment next month    0\n",
              "dtype: int64"
            ]
          },
          "metadata": {
            "tags": []
          },
          "execution_count": 27
        }
      ]
    },
    {
      "cell_type": "markdown",
      "metadata": {
        "id": "0UXli5NA8dvd"
      },
      "source": [
        "##Exploratory Data "
      ]
    },
    {
      "cell_type": "markdown",
      "metadata": {
        "id": "ffhbw3EexaZk"
      },
      "source": [
        "### Playground with Categorical Data Exploration"
      ]
    },
    {
      "cell_type": "code",
      "metadata": {
        "id": "Q0YmhhLF8d9h"
      },
      "source": [
        "sql_df.createOrReplaceTempView('data')"
      ],
      "execution_count": 28,
      "outputs": []
    },
    {
      "cell_type": "code",
      "metadata": {
        "colab": {
          "base_uri": "https://localhost:8080/"
        },
        "id": "5q3S1IbjAQJT",
        "outputId": "4e4d3597-f330-4059-f21e-66e07f020598"
      },
      "source": [
        "sql_df.columns"
      ],
      "execution_count": 29,
      "outputs": [
        {
          "output_type": "execute_result",
          "data": {
            "text/plain": [
              "['ID',\n",
              " 'LIMIT_BAL',\n",
              " 'SEX',\n",
              " 'EDUCATION',\n",
              " 'MARRIAGE',\n",
              " 'AGE',\n",
              " 'PAY_0',\n",
              " 'PAY_2',\n",
              " 'PAY_3',\n",
              " 'PAY_4',\n",
              " 'PAY_5',\n",
              " 'PAY_6',\n",
              " 'BILL_AMT1',\n",
              " 'BILL_AMT2',\n",
              " 'BILL_AMT3',\n",
              " 'BILL_AMT4',\n",
              " 'BILL_AMT5',\n",
              " 'BILL_AMT6',\n",
              " 'PAY_AMT1',\n",
              " 'PAY_AMT2',\n",
              " 'PAY_AMT3',\n",
              " 'PAY_AMT4',\n",
              " 'PAY_AMT5',\n",
              " 'PAY_AMT6',\n",
              " 'default payment next month']"
            ]
          },
          "metadata": {
            "tags": []
          },
          "execution_count": 29
        }
      ]
    },
    {
      "cell_type": "code",
      "metadata": {
        "colab": {
          "base_uri": "https://localhost:8080/"
        },
        "id": "rERqaZ_BBqhx",
        "outputId": "a4a1f9ad-b330-440a-ce83-b278bef1094a"
      },
      "source": [
        "spark.sql(f\"select SEX,count(*) as Count from data group by SEX\").show()"
      ],
      "execution_count": 30,
      "outputs": [
        {
          "output_type": "stream",
          "text": [
            "+---+-----+\n",
            "|SEX|Count|\n",
            "+---+-----+\n",
            "|  1|11888|\n",
            "|  2|18112|\n",
            "+---+-----+\n",
            "\n"
          ],
          "name": "stdout"
        }
      ]
    },
    {
      "cell_type": "code",
      "metadata": {
        "id": "8bwyowfmFFUi"
      },
      "source": [
        "# Function to find distinct Values\n",
        "\n",
        "def distinct_values(data):\n",
        "  for i in data.columns:\n",
        "    #distinct values with less than 30 unique values\n",
        "    if len(set(list(data[i])))<30:\n",
        "      print(f\"{i} Distinct Values :  \\n {data[i].value_counts()} \\n\")"
      ],
      "execution_count": 31,
      "outputs": []
    },
    {
      "cell_type": "code",
      "metadata": {
        "colab": {
          "base_uri": "https://localhost:8080/"
        },
        "id": "nJgwLpcrGj0N",
        "outputId": "290e8954-914f-43ad-c715-7985d6ffb5cb"
      },
      "source": [
        "distinct_values(sql_df.toPandas())"
      ],
      "execution_count": 32,
      "outputs": [
        {
          "output_type": "stream",
          "text": [
            "SEX Distinct Values :  \n",
            " 2    18112\n",
            "1    11888\n",
            "Name: SEX, dtype: int64 \n",
            "\n",
            "EDUCATION Distinct Values :  \n",
            " 2    14030\n",
            "1    10585\n",
            "3     4917\n",
            "5      280\n",
            "4      123\n",
            "6       51\n",
            "0       14\n",
            "Name: EDUCATION, dtype: int64 \n",
            "\n",
            "MARRIAGE Distinct Values :  \n",
            " 2    15964\n",
            "1    13659\n",
            "3      323\n",
            "0       54\n",
            "Name: MARRIAGE, dtype: int64 \n",
            "\n",
            "PAY_0 Distinct Values :  \n",
            "  0    14737\n",
            "-1     5686\n",
            " 1     3688\n",
            "-2     2759\n",
            " 2     2667\n",
            " 3      322\n",
            " 4       76\n",
            " 5       26\n",
            " 8       19\n",
            " 6       11\n",
            " 7        9\n",
            "Name: PAY_0, dtype: int64 \n",
            "\n",
            "PAY_2 Distinct Values :  \n",
            "  0    15730\n",
            "-1     6050\n",
            " 2     3927\n",
            "-2     3782\n",
            " 3      326\n",
            " 4       99\n",
            " 1       28\n",
            " 5       25\n",
            " 7       20\n",
            " 6       12\n",
            " 8        1\n",
            "Name: PAY_2, dtype: int64 \n",
            "\n",
            "PAY_3 Distinct Values :  \n",
            "  0    15764\n",
            "-1     5938\n",
            "-2     4085\n",
            " 2     3819\n",
            " 3      240\n",
            " 4       76\n",
            " 7       27\n",
            " 6       23\n",
            " 5       21\n",
            " 1        4\n",
            " 8        3\n",
            "Name: PAY_3, dtype: int64 \n",
            "\n",
            "PAY_4 Distinct Values :  \n",
            "  0    16455\n",
            "-1     5687\n",
            "-2     4348\n",
            " 2     3159\n",
            " 3      180\n",
            " 4       69\n",
            " 7       58\n",
            " 5       35\n",
            " 6        5\n",
            " 8        2\n",
            " 1        2\n",
            "Name: PAY_4, dtype: int64 \n",
            "\n",
            "PAY_5 Distinct Values :  \n",
            "  0    16947\n",
            "-1     5539\n",
            "-2     4546\n",
            " 2     2626\n",
            " 3      178\n",
            " 4       84\n",
            " 7       58\n",
            " 5       17\n",
            " 6        4\n",
            " 8        1\n",
            "Name: PAY_5, dtype: int64 \n",
            "\n",
            "PAY_6 Distinct Values :  \n",
            "  0    16286\n",
            "-1     5740\n",
            "-2     4895\n",
            " 2     2766\n",
            " 3      184\n",
            " 4       49\n",
            " 7       46\n",
            " 6       19\n",
            " 5       13\n",
            " 8        2\n",
            "Name: PAY_6, dtype: int64 \n",
            "\n",
            "default payment next month Distinct Values :  \n",
            " 0    23364\n",
            "1     6636\n",
            "Name: default payment next month, dtype: int64 \n",
            "\n"
          ],
          "name": "stdout"
        }
      ]
    },
    {
      "cell_type": "code",
      "metadata": {
        "id": "_xykxdqz8eF5"
      },
      "source": [
        "# Core Categorical Data\n",
        "Cat_data = ['SEX','EDUCATION','MARRIAGE','default payment next month']"
      ],
      "execution_count": 33,
      "outputs": []
    },
    {
      "cell_type": "code",
      "metadata": {
        "colab": {
          "base_uri": "https://localhost:8080/",
          "height": 1000
        },
        "id": "z8pWnQmG8eQn",
        "outputId": "bdace3d2-4559-4733-ac66-7e2fd885ec62"
      },
      "source": [
        "# Bar graphs\n",
        "for i in Cat_data:\n",
        "  print(ggplot(sql_df.toPandas())+aes(i,color=i)+geom_bar(fill = \"#FF1067\"))\n"
      ],
      "execution_count": 34,
      "outputs": [
        {
          "output_type": "display_data",
          "data": {
            "image/png": "[encoded data removed]",
            "text/plain": [
              "<Figure size 640x480 with 1 Axes>"
            ]
          },
          "metadata": {
            "tags": []
          }
        },
        {
          "output_type": "stream",
          "text": [
            "<ggplot: (8759063123697)>\n"
          ],
          "name": "stdout"
        },
        {
          "output_type": "display_data",
          "data": {
            "image/png": "[encoded data removed]",
            "text/plain": [
              "<Figure size 640x480 with 1 Axes>"
            ]
          },
          "metadata": {
            "tags": []
          }
        },
        {
          "output_type": "stream",
          "text": [
            "<ggplot: (8759062631185)>\n"
          ],
          "name": "stdout"
        },
        {
          "output_type": "display_data",
          "data": {
            "image/png": "[encoded data removed]",
            "text/plain": [
              "<Figure size 640x480 with 1 Axes>"
            ]
          },
          "metadata": {
            "tags": []
          }
        },
        {
          "output_type": "stream",
          "text": [
            "<ggplot: (8759061601869)>\n"
          ],
          "name": "stdout"
        },
        {
          "output_type": "display_data",
          "data": {
            "image/png": "[encoded data removed]",
            "text/plain": [
              "<Figure size 640x480 with 1 Axes>"
            ]
          },
          "metadata": {
            "tags": []
          }
        },
        {
          "output_type": "stream",
          "text": [
            "<ggplot: (8759062346137)>\n"
          ],
          "name": "stdout"
        }
      ]
    },
    {
      "cell_type": "code",
      "metadata": {
        "id": "5Y_ZQ2b88ejT"
      },
      "source": [
        ""
      ],
      "execution_count": 34,
      "outputs": []
    },
    {
      "cell_type": "markdown",
      "metadata": {
        "id": "Ai-VJKan8eeg"
      },
      "source": [
        "**Treatment of classes with close to 0 observations. We either remove them or add them to nearest majority class.**"
      ]
    },
    {
      "cell_type": "code",
      "metadata": {
        "id": "zzkxQ_Oe9jSA"
      },
      "source": [
        "df2 = sql_df.toPandas()"
      ],
      "execution_count": 35,
      "outputs": []
    },
    {
      "cell_type": "code",
      "metadata": {
        "id": "qgvQGQ4QohSL"
      },
      "source": [
        "df2['MARRIAGE']=df2['MARRIAGE'].replace({3:1,2:1,1:0})"
      ],
      "execution_count": 36,
      "outputs": []
    },
    {
      "cell_type": "code",
      "metadata": {
        "colab": {
          "base_uri": "https://localhost:8080/"
        },
        "id": "QAkrJGgQohX1",
        "outputId": "0d961919-34c6-4d3a-ac31-1539b6f201cb"
      },
      "source": [
        "df2['EDUCATION'] = df2['EDUCATION'].replace({1:0,2:1,3:2,4:2,5:2,6:2})\n",
        "df2['EDUCATION'].value_counts()"
      ],
      "execution_count": 37,
      "outputs": [
        {
          "output_type": "execute_result",
          "data": {
            "text/plain": [
              "1    14030\n",
              "0    10599\n",
              "2     5371\n",
              "Name: EDUCATION, dtype: int64"
            ]
          },
          "metadata": {
            "tags": []
          },
          "execution_count": 37
        }
      ]
    },
    {
      "cell_type": "code",
      "metadata": {
        "colab": {
          "base_uri": "https://localhost:8080/"
        },
        "id": "2RrKMmupo69I",
        "outputId": "d4f17205-0b32-40f0-c747-c63dacf97730"
      },
      "source": [
        "df2['SEX']= df2['SEX'].replace({2:1,1:0})\n",
        "df2['SEX'].value_counts()"
      ],
      "execution_count": 38,
      "outputs": [
        {
          "output_type": "execute_result",
          "data": {
            "text/plain": [
              "1    18112\n",
              "0    11888\n",
              "Name: SEX, dtype: int64"
            ]
          },
          "metadata": {
            "tags": []
          },
          "execution_count": 38
        }
      ]
    },
    {
      "cell_type": "code",
      "metadata": {
        "colab": {
          "base_uri": "https://localhost:8080/",
          "height": 1000
        },
        "id": "AsGWxXyiZr7p",
        "outputId": "5bc2e16b-24bf-46e9-d703-2576f05b2b16"
      },
      "source": [
        "# Bar graphs\n",
        "for i in Cat_data:\n",
        "  print(ggplot(df2)+aes(i,color=i)+geom_bar(fill = \"#FF7767\"))\n"
      ],
      "execution_count": 39,
      "outputs": [
        {
          "output_type": "display_data",
          "data": {
            "image/png": "[encoded data removed]",
            "text/plain": [
              "<Figure size 640x480 with 1 Axes>"
            ]
          },
          "metadata": {
            "tags": []
          }
        },
        {
          "output_type": "stream",
          "text": [
            "<ggplot: (8759064145049)>\n"
          ],
          "name": "stdout"
        },
        {
          "output_type": "display_data",
          "data": {
            "image/png": "[encoded data removed]",
            "text/plain": [
              "<Figure size 640x480 with 1 Axes>"
            ]
          },
          "metadata": {
            "tags": []
          }
        },
        {
          "output_type": "stream",
          "text": [
            "<ggplot: (8759085911801)>\n"
          ],
          "name": "stdout"
        },
        {
          "output_type": "display_data",
          "data": {
            "image/png": "[encoded data removed]",
            "text/plain": [
              "<Figure size 640x480 with 1 Axes>"
            ]
          },
          "metadata": {
            "tags": []
          }
        },
        {
          "output_type": "stream",
          "text": [
            "<ggplot: (8759063612053)>\n"
          ],
          "name": "stdout"
        },
        {
          "output_type": "display_data",
          "data": {
            "image/png": "[encoded data removed]",
            "text/plain": [
              "<Figure size 640x480 with 1 Axes>"
            ]
          },
          "metadata": {
            "tags": []
          }
        },
        {
          "output_type": "stream",
          "text": [
            "<ggplot: (8759064510753)>\n"
          ],
          "name": "stdout"
        }
      ]
    },
    {
      "cell_type": "markdown",
      "metadata": {
        "id": "V7Idd9XjnwUi"
      },
      "source": [
        "* We can see that our dependent variable has a majority class. We need to pick model and algorithms complying to that in future."
      ]
    },
    {
      "cell_type": "markdown",
      "metadata": {
        "id": "9au3F8sOz3aV"
      },
      "source": [
        "####**Education by Gender**"
      ]
    },
    {
      "cell_type": "code",
      "metadata": {
        "colab": {
          "base_uri": "https://localhost:8080/",
          "height": 204
        },
        "id": "X6NYSQo6WBhc",
        "outputId": "026d5f67-0989-499d-fc50-db228ab652d2"
      },
      "source": [
        "Education_by_gender = pd.pivot_table(df2,index='EDUCATION',columns='SEX',aggfunc={'SEX':'count'})\n",
        "Education_by_gender"
      ],
      "execution_count": 40,
      "outputs": [
        {
          "output_type": "execute_result",
          "data": {
            "text/html": [
              "<div>\n",
              "<style scoped>\n",
              "    .dataframe tbody tr th:only-of-type {\n",
              "        vertical-align: middle;\n",
              "    }\n",
              "\n",
              "    .dataframe tbody tr th {\n",
              "        vertical-align: top;\n",
              "    }\n",
              "\n",
              "    .dataframe thead tr th {\n",
              "        text-align: left;\n",
              "    }\n",
              "\n",
              "    .dataframe thead tr:last-of-type th {\n",
              "        text-align: right;\n",
              "    }\n",
              "</style>\n",
              "<table border=\"1\" class=\"dataframe\">\n",
              "  <thead>\n",
              "    <tr>\n",
              "      <th></th>\n",
              "      <th colspan=\"2\" halign=\"left\">SEX</th>\n",
              "    </tr>\n",
              "    <tr>\n",
              "      <th>SEX</th>\n",
              "      <th>0</th>\n",
              "      <th>1</th>\n",
              "    </tr>\n",
              "    <tr>\n",
              "      <th>EDUCATION</th>\n",
              "      <th></th>\n",
              "      <th></th>\n",
              "    </tr>\n",
              "  </thead>\n",
              "  <tbody>\n",
              "    <tr>\n",
              "      <th>0</th>\n",
              "      <td>4362</td>\n",
              "      <td>6237</td>\n",
              "    </tr>\n",
              "    <tr>\n",
              "      <th>1</th>\n",
              "      <td>5374</td>\n",
              "      <td>8656</td>\n",
              "    </tr>\n",
              "    <tr>\n",
              "      <th>2</th>\n",
              "      <td>2152</td>\n",
              "      <td>3219</td>\n",
              "    </tr>\n",
              "  </tbody>\n",
              "</table>\n",
              "</div>"
            ],
            "text/plain": [
              "            SEX      \n",
              "SEX           0     1\n",
              "EDUCATION            \n",
              "0          4362  6237\n",
              "1          5374  8656\n",
              "2          2152  3219"
            ]
          },
          "metadata": {
            "tags": []
          },
          "execution_count": 40
        }
      ]
    },
    {
      "cell_type": "code",
      "metadata": {
        "colab": {
          "base_uri": "https://localhost:8080/",
          "height": 472
        },
        "id": "c15W6qFfYjkh",
        "outputId": "0245eac3-89b4-4f56-afe4-568e568f3e6a"
      },
      "source": [
        "Education_by_gender.plot(kind='bar',figsize=(7,7),grid=1)\n",
        "plt.title(\"Count Of Education by gender\")\n",
        "plt.ylabel('Frequency')\n",
        "plt.legend()"
      ],
      "execution_count": 41,
      "outputs": [
        {
          "output_type": "execute_result",
          "data": {
            "text/plain": [
              "<matplotlib.legend.Legend at 0x7f760e980090>"
            ]
          },
          "metadata": {
            "tags": []
          },
          "execution_count": 41
        },
        {
          "output_type": "display_data",
          "data": {
            "image/png": "[encoded data removed]",
            "text/plain": [
              "<Figure size 504x504 with 1 Axes>"
            ]
          },
          "metadata": {
            "tags": [],
            "needs_background": "light"
          }
        }
      ]
    },
    {
      "cell_type": "markdown",
      "metadata": {
        "id": "ZsRwlksYJLEP"
      },
      "source": [
        "* We can see in the above chart that people with University level education are heightest in numbers."
      ]
    },
    {
      "cell_type": "markdown",
      "metadata": {
        "id": "wICqK1VuYj61"
      },
      "source": [
        "####**People who defaulted groups in diffrent categories**\n"
      ]
    },
    {
      "cell_type": "code",
      "metadata": {
        "colab": {
          "base_uri": "https://localhost:8080/",
          "height": 204
        },
        "id": "gpTME9DbTMhj",
        "outputId": "983b4e9d-f4c0-48a0-900a-1b33ec69d5d7"
      },
      "source": [
        "# Default by education\n",
        "Default_by_education = pd.DataFrame(pd.pivot_table(df2,index='EDUCATION',columns='default payment next month',aggfunc={'default payment next month':'count'}))\n",
        "Default_by_education"
      ],
      "execution_count": 42,
      "outputs": [
        {
          "output_type": "execute_result",
          "data": {
            "text/html": [
              "<div>\n",
              "<style scoped>\n",
              "    .dataframe tbody tr th:only-of-type {\n",
              "        vertical-align: middle;\n",
              "    }\n",
              "\n",
              "    .dataframe tbody tr th {\n",
              "        vertical-align: top;\n",
              "    }\n",
              "\n",
              "    .dataframe thead tr th {\n",
              "        text-align: left;\n",
              "    }\n",
              "\n",
              "    .dataframe thead tr:last-of-type th {\n",
              "        text-align: right;\n",
              "    }\n",
              "</style>\n",
              "<table border=\"1\" class=\"dataframe\">\n",
              "  <thead>\n",
              "    <tr>\n",
              "      <th></th>\n",
              "      <th colspan=\"2\" halign=\"left\">default payment next month</th>\n",
              "    </tr>\n",
              "    <tr>\n",
              "      <th>default payment next month</th>\n",
              "      <th>0</th>\n",
              "      <th>1</th>\n",
              "    </tr>\n",
              "    <tr>\n",
              "      <th>EDUCATION</th>\n",
              "      <th></th>\n",
              "      <th></th>\n",
              "    </tr>\n",
              "  </thead>\n",
              "  <tbody>\n",
              "    <tr>\n",
              "      <th>0</th>\n",
              "      <td>8563</td>\n",
              "      <td>2036</td>\n",
              "    </tr>\n",
              "    <tr>\n",
              "      <th>1</th>\n",
              "      <td>10700</td>\n",
              "      <td>3330</td>\n",
              "    </tr>\n",
              "    <tr>\n",
              "      <th>2</th>\n",
              "      <td>4101</td>\n",
              "      <td>1270</td>\n",
              "    </tr>\n",
              "  </tbody>\n",
              "</table>\n",
              "</div>"
            ],
            "text/plain": [
              "                           default payment next month      \n",
              "default payment next month                          0     1\n",
              "EDUCATION                                                  \n",
              "0                                                8563  2036\n",
              "1                                               10700  3330\n",
              "2                                                4101  1270"
            ]
          },
          "metadata": {
            "tags": []
          },
          "execution_count": 42
        }
      ]
    },
    {
      "cell_type": "code",
      "metadata": {
        "colab": {
          "base_uri": "https://localhost:8080/",
          "height": 526
        },
        "id": "wQDfTJeojpqT",
        "outputId": "08cb8370-98a3-471e-ce77-adb8e491fe28"
      },
      "source": [
        "Default_by_education.plot(kind='bar',y= ['default payment next month'],stacked=0,figsize=(8,8),grid=1)\n",
        "\n",
        "plt.title('Count of People who defaulted by education')"
      ],
      "execution_count": 43,
      "outputs": [
        {
          "output_type": "execute_result",
          "data": {
            "text/plain": [
              "Text(0.5, 1.0, 'Count of People who defaulted by education')"
            ]
          },
          "metadata": {
            "tags": []
          },
          "execution_count": 43
        },
        {
          "output_type": "display_data",
          "data": {
            "image/png": "[encoded data removed]",
            "text/plain": [
              "<Figure size 576x576 with 1 Axes>"
            ]
          },
          "metadata": {
            "tags": [],
            "needs_background": "light"
          }
        }
      ]
    },
    {
      "cell_type": "code",
      "metadata": {
        "colab": {
          "base_uri": "https://localhost:8080/",
          "height": 173
        },
        "id": "McVL_r_STMuU",
        "outputId": "e94df75a-2d7b-44d5-a682-154ecaf723c5"
      },
      "source": [
        "# Default by gender\n",
        "Default_by_gender = pd.DataFrame(pd.pivot_table(df2,index='SEX',columns='default payment next month',aggfunc={'default payment next month':'count'}))\n",
        "Default_by_gender"
      ],
      "execution_count": 44,
      "outputs": [
        {
          "output_type": "execute_result",
          "data": {
            "text/html": [
              "<div>\n",
              "<style scoped>\n",
              "    .dataframe tbody tr th:only-of-type {\n",
              "        vertical-align: middle;\n",
              "    }\n",
              "\n",
              "    .dataframe tbody tr th {\n",
              "        vertical-align: top;\n",
              "    }\n",
              "\n",
              "    .dataframe thead tr th {\n",
              "        text-align: left;\n",
              "    }\n",
              "\n",
              "    .dataframe thead tr:last-of-type th {\n",
              "        text-align: right;\n",
              "    }\n",
              "</style>\n",
              "<table border=\"1\" class=\"dataframe\">\n",
              "  <thead>\n",
              "    <tr>\n",
              "      <th></th>\n",
              "      <th colspan=\"2\" halign=\"left\">default payment next month</th>\n",
              "    </tr>\n",
              "    <tr>\n",
              "      <th>default payment next month</th>\n",
              "      <th>0</th>\n",
              "      <th>1</th>\n",
              "    </tr>\n",
              "    <tr>\n",
              "      <th>SEX</th>\n",
              "      <th></th>\n",
              "      <th></th>\n",
              "    </tr>\n",
              "  </thead>\n",
              "  <tbody>\n",
              "    <tr>\n",
              "      <th>0</th>\n",
              "      <td>9015</td>\n",
              "      <td>2873</td>\n",
              "    </tr>\n",
              "    <tr>\n",
              "      <th>1</th>\n",
              "      <td>14349</td>\n",
              "      <td>3763</td>\n",
              "    </tr>\n",
              "  </tbody>\n",
              "</table>\n",
              "</div>"
            ],
            "text/plain": [
              "                           default payment next month      \n",
              "default payment next month                          0     1\n",
              "SEX                                                        \n",
              "0                                                9015  2873\n",
              "1                                               14349  3763"
            ]
          },
          "metadata": {
            "tags": []
          },
          "execution_count": 44
        }
      ]
    },
    {
      "cell_type": "code",
      "metadata": {
        "colab": {
          "base_uri": "https://localhost:8080/",
          "height": 526
        },
        "id": "bzm1CR8LTM3G",
        "outputId": "3c8b1620-5e90-4367-9f32-8540100e37c7"
      },
      "source": [
        "Default_by_gender.plot(kind='bar',y= ['default payment next month'],stacked=0,figsize=(8,8),grid=1)\n",
        "\n",
        "plt.title('Count of People who defaulted by gender')"
      ],
      "execution_count": 45,
      "outputs": [
        {
          "output_type": "execute_result",
          "data": {
            "text/plain": [
              "Text(0.5, 1.0, 'Count of People who defaulted by gender')"
            ]
          },
          "metadata": {
            "tags": []
          },
          "execution_count": 45
        },
        {
          "output_type": "display_data",
          "data": {
            "image/png": "[encoded data removed]",
            "text/plain": [
              "<Figure size 576x576 with 1 Axes>"
            ]
          },
          "metadata": {
            "tags": [],
            "needs_background": "light"
          }
        }
      ]
    },
    {
      "cell_type": "markdown",
      "metadata": {
        "id": "_xILnReJwu3h"
      },
      "source": [
        "####**`AGE` Distribution**"
      ]
    },
    {
      "cell_type": "code",
      "metadata": {
        "id": "fvAIb3PYvxR6"
      },
      "source": [
        "from scipy.stats import mode\n",
        "mode_age = int(mode(df2['AGE'])[0])"
      ],
      "execution_count": 46,
      "outputs": []
    },
    {
      "cell_type": "code",
      "metadata": {
        "colab": {
          "base_uri": "https://localhost:8080/",
          "height": 518
        },
        "id": "p-5IGFZ8wU_a",
        "outputId": "6e9d2aa4-c6a0-486c-ce8b-fddc31544342"
      },
      "source": [
        "plt.figure(figsize=(10,6))\n",
        "plt.rc('xtick', labelsize=13) \n",
        "sns.distplot(df2['AGE'],color='red')\n",
        "plt.title('Density plot of age distribution',{'size':22,'weight':'bold'})\n",
        "plt.axvline(np.mean(df2['AGE']),label='Mean')\n",
        "plt.axvline(np.median(df2['AGE']),color='grey',label='Median')\n",
        "plt.axvline(mode_age,color='yellow',label='Mode')\n",
        "plt.legend()"
      ],
      "execution_count": 47,
      "outputs": [
        {
          "output_type": "stream",
          "text": [
            "/usr/local/lib/python3.7/dist-packages/seaborn/distributions.py:2557: FutureWarning:\n",
            "\n",
            "`distplot` is a deprecated function and will be removed in a future version. Please adapt your code to use either `displot` (a figure-level function with similar flexibility) or `histplot` (an axes-level function for histograms).\n",
            "\n"
          ],
          "name": "stderr"
        },
        {
          "output_type": "execute_result",
          "data": {
            "text/plain": [
              "<matplotlib.legend.Legend at 0x7f760e10ce10>"
            ]
          },
          "metadata": {
            "tags": []
          },
          "execution_count": 47
        },
        {
          "output_type": "display_data",
          "data": {
            "image/png": "[encoded data removed]",
            "text/plain": [
              "<Figure size 720x432 with 1 Axes>"
            ]
          },
          "metadata": {
            "tags": [],
            "needs_background": "light"
          }
        }
      ]
    },
    {
      "cell_type": "markdown",
      "metadata": {
        "id": "plDfTYAF1Zq6"
      },
      "source": [
        "* We can see that it is a skewed distribution.\n",
        "\n",
        "\n",
        "\n",
        "* Even after trying square root transformation and log transformation it didn't come close to normal distribution"
      ]
    },
    {
      "cell_type": "code",
      "metadata": {
        "id": "F66xoM5u1LNh"
      },
      "source": [
        ""
      ],
      "execution_count": 47,
      "outputs": []
    },
    {
      "cell_type": "code",
      "metadata": {
        "id": "a1t-4xbu1Dpa"
      },
      "source": [
        ""
      ],
      "execution_count": 47,
      "outputs": []
    },
    {
      "cell_type": "markdown",
      "metadata": {
        "id": "pqDEQA0Ps0hs"
      },
      "source": [
        "##Train test split "
      ]
    },
    {
      "cell_type": "code",
      "metadata": {
        "colab": {
          "base_uri": "https://localhost:8080/",
          "height": 275
        },
        "id": "P-3uCGgb7vrp",
        "outputId": "393daeb7-7bab-4d03-ed54-ed1c9ea19116"
      },
      "source": [
        "df2 = df2.iloc[:,1:]\n",
        "df2.head()"
      ],
      "execution_count": 48,
      "outputs": [
        {
          "output_type": "execute_result",
          "data": {
            "text/html": [
              "<div>\n",
              "<style scoped>\n",
              "    .dataframe tbody tr th:only-of-type {\n",
              "        vertical-align: middle;\n",
              "    }\n",
              "\n",
              "    .dataframe tbody tr th {\n",
              "        vertical-align: top;\n",
              "    }\n",
              "\n",
              "    .dataframe thead th {\n",
              "        text-align: right;\n",
              "    }\n",
              "</style>\n",
              "<table border=\"1\" class=\"dataframe\">\n",
              "  <thead>\n",
              "    <tr style=\"text-align: right;\">\n",
              "      <th></th>\n",
              "      <th>LIMIT_BAL</th>\n",
              "      <th>SEX</th>\n",
              "      <th>EDUCATION</th>\n",
              "      <th>MARRIAGE</th>\n",
              "      <th>AGE</th>\n",
              "      <th>PAY_0</th>\n",
              "      <th>PAY_2</th>\n",
              "      <th>PAY_3</th>\n",
              "      <th>PAY_4</th>\n",
              "      <th>PAY_5</th>\n",
              "      <th>PAY_6</th>\n",
              "      <th>BILL_AMT1</th>\n",
              "      <th>BILL_AMT2</th>\n",
              "      <th>BILL_AMT3</th>\n",
              "      <th>BILL_AMT4</th>\n",
              "      <th>BILL_AMT5</th>\n",
              "      <th>BILL_AMT6</th>\n",
              "      <th>PAY_AMT1</th>\n",
              "      <th>PAY_AMT2</th>\n",
              "      <th>PAY_AMT3</th>\n",
              "      <th>PAY_AMT4</th>\n",
              "      <th>PAY_AMT5</th>\n",
              "      <th>PAY_AMT6</th>\n",
              "      <th>default payment next month</th>\n",
              "    </tr>\n",
              "  </thead>\n",
              "  <tbody>\n",
              "    <tr>\n",
              "      <th>0</th>\n",
              "      <td>20000</td>\n",
              "      <td>1</td>\n",
              "      <td>1</td>\n",
              "      <td>0</td>\n",
              "      <td>24</td>\n",
              "      <td>2</td>\n",
              "      <td>2</td>\n",
              "      <td>-1</td>\n",
              "      <td>-1</td>\n",
              "      <td>-2</td>\n",
              "      <td>-2</td>\n",
              "      <td>3913</td>\n",
              "      <td>3102</td>\n",
              "      <td>689</td>\n",
              "      <td>0</td>\n",
              "      <td>0</td>\n",
              "      <td>0</td>\n",
              "      <td>0</td>\n",
              "      <td>689</td>\n",
              "      <td>0</td>\n",
              "      <td>0</td>\n",
              "      <td>0</td>\n",
              "      <td>0</td>\n",
              "      <td>1</td>\n",
              "    </tr>\n",
              "    <tr>\n",
              "      <th>1</th>\n",
              "      <td>120000</td>\n",
              "      <td>1</td>\n",
              "      <td>1</td>\n",
              "      <td>1</td>\n",
              "      <td>26</td>\n",
              "      <td>-1</td>\n",
              "      <td>2</td>\n",
              "      <td>0</td>\n",
              "      <td>0</td>\n",
              "      <td>0</td>\n",
              "      <td>2</td>\n",
              "      <td>2682</td>\n",
              "      <td>1725</td>\n",
              "      <td>2682</td>\n",
              "      <td>3272</td>\n",
              "      <td>3455</td>\n",
              "      <td>3261</td>\n",
              "      <td>0</td>\n",
              "      <td>1000</td>\n",
              "      <td>1000</td>\n",
              "      <td>1000</td>\n",
              "      <td>0</td>\n",
              "      <td>2000</td>\n",
              "      <td>1</td>\n",
              "    </tr>\n",
              "    <tr>\n",
              "      <th>2</th>\n",
              "      <td>90000</td>\n",
              "      <td>1</td>\n",
              "      <td>1</td>\n",
              "      <td>1</td>\n",
              "      <td>34</td>\n",
              "      <td>0</td>\n",
              "      <td>0</td>\n",
              "      <td>0</td>\n",
              "      <td>0</td>\n",
              "      <td>0</td>\n",
              "      <td>0</td>\n",
              "      <td>29239</td>\n",
              "      <td>14027</td>\n",
              "      <td>13559</td>\n",
              "      <td>14331</td>\n",
              "      <td>14948</td>\n",
              "      <td>15549</td>\n",
              "      <td>1518</td>\n",
              "      <td>1500</td>\n",
              "      <td>1000</td>\n",
              "      <td>1000</td>\n",
              "      <td>1000</td>\n",
              "      <td>5000</td>\n",
              "      <td>0</td>\n",
              "    </tr>\n",
              "    <tr>\n",
              "      <th>3</th>\n",
              "      <td>50000</td>\n",
              "      <td>1</td>\n",
              "      <td>1</td>\n",
              "      <td>0</td>\n",
              "      <td>37</td>\n",
              "      <td>0</td>\n",
              "      <td>0</td>\n",
              "      <td>0</td>\n",
              "      <td>0</td>\n",
              "      <td>0</td>\n",
              "      <td>0</td>\n",
              "      <td>46990</td>\n",
              "      <td>48233</td>\n",
              "      <td>49291</td>\n",
              "      <td>28314</td>\n",
              "      <td>28959</td>\n",
              "      <td>29547</td>\n",
              "      <td>2000</td>\n",
              "      <td>2019</td>\n",
              "      <td>1200</td>\n",
              "      <td>1100</td>\n",
              "      <td>1069</td>\n",
              "      <td>1000</td>\n",
              "      <td>0</td>\n",
              "    </tr>\n",
              "    <tr>\n",
              "      <th>4</th>\n",
              "      <td>50000</td>\n",
              "      <td>0</td>\n",
              "      <td>1</td>\n",
              "      <td>0</td>\n",
              "      <td>57</td>\n",
              "      <td>-1</td>\n",
              "      <td>0</td>\n",
              "      <td>-1</td>\n",
              "      <td>0</td>\n",
              "      <td>0</td>\n",
              "      <td>0</td>\n",
              "      <td>8617</td>\n",
              "      <td>5670</td>\n",
              "      <td>35835</td>\n",
              "      <td>20940</td>\n",
              "      <td>19146</td>\n",
              "      <td>19131</td>\n",
              "      <td>2000</td>\n",
              "      <td>36681</td>\n",
              "      <td>10000</td>\n",
              "      <td>9000</td>\n",
              "      <td>689</td>\n",
              "      <td>679</td>\n",
              "      <td>0</td>\n",
              "    </tr>\n",
              "  </tbody>\n",
              "</table>\n",
              "</div>"
            ],
            "text/plain": [
              "   LIMIT_BAL  SEX  EDUCATION  ...  PAY_AMT5  PAY_AMT6  default payment next month\n",
              "0      20000    1          1  ...         0         0                           1\n",
              "1     120000    1          1  ...         0      2000                           1\n",
              "2      90000    1          1  ...      1000      5000                           0\n",
              "3      50000    1          1  ...      1069      1000                           0\n",
              "4      50000    0          1  ...       689       679                           0\n",
              "\n",
              "[5 rows x 24 columns]"
            ]
          },
          "metadata": {
            "tags": []
          },
          "execution_count": 48
        }
      ]
    },
    {
      "cell_type": "code",
      "metadata": {
        "colab": {
          "base_uri": "https://localhost:8080/"
        },
        "id": "a-RIUJ8w77xl",
        "outputId": "a5b96d6f-bc13-4aa1-b8f6-eaebd569f6e9"
      },
      "source": [
        "x = df2.drop('default payment next month',axis='columns')\n",
        "y = df2['default payment next month']\n",
        "print(f\"{x.shape}\\n {y.shape}\")"
      ],
      "execution_count": 49,
      "outputs": [
        {
          "output_type": "stream",
          "text": [
            "(30000, 23)\n",
            " (30000,)\n"
          ],
          "name": "stdout"
        }
      ]
    },
    {
      "cell_type": "code",
      "metadata": {
        "colab": {
          "base_uri": "https://localhost:8080/"
        },
        "id": "JZXv9_xHs0pa",
        "outputId": "d3ca550f-192b-4d58-bb47-87d4a4c574bd"
      },
      "source": [
        "from sklearn.model_selection import train_test_split\n",
        "x_train,x_test,y_train,y_test = train_test_split(x,y, random_state=42)\n",
        "print(x_train.shape)\n",
        "print(y_train.shape)\n",
        "print(x_test.shape)\n",
        "print(y_test.shape)"
      ],
      "execution_count": 50,
      "outputs": [
        {
          "output_type": "stream",
          "text": [
            "(22500, 23)\n",
            "(22500,)\n",
            "(7500, 23)\n",
            "(7500,)\n"
          ],
          "name": "stdout"
        }
      ]
    },
    {
      "cell_type": "markdown",
      "metadata": {
        "id": "dcFiAvOsBdI4"
      },
      "source": [
        "###Logistic Regression Model"
      ]
    },
    {
      "cell_type": "code",
      "metadata": {
        "id": "4S6ECKvJBlr7"
      },
      "source": [
        "from sklearn.metrics import  roc_auc_score,accuracy_score\n",
        "from sklearn.linear_model import LogisticRegression"
      ],
      "execution_count": 51,
      "outputs": []
    },
    {
      "cell_type": "code",
      "metadata": {
        "id": "g5W9OWGRBlyW"
      },
      "source": [
        "logit = LogisticRegression(max_iter=100000)"
      ],
      "execution_count": 52,
      "outputs": []
    },
    {
      "cell_type": "code",
      "metadata": {
        "id": "xfyjQqKgBl7A",
        "colab": {
          "base_uri": "https://localhost:8080/"
        },
        "outputId": "64b68f46-ad0d-4130-bf86-d6fa793f1def"
      },
      "source": [
        "logit.fit(x_train,y_train)"
      ],
      "execution_count": 53,
      "outputs": [
        {
          "output_type": "execute_result",
          "data": {
            "text/plain": [
              "LogisticRegression(C=1.0, class_weight=None, dual=False, fit_intercept=True,\n",
              "                   intercept_scaling=1, l1_ratio=None, max_iter=100000,\n",
              "                   multi_class='auto', n_jobs=None, penalty='l2',\n",
              "                   random_state=None, solver='lbfgs', tol=0.0001, verbose=0,\n",
              "                   warm_start=False)"
            ]
          },
          "metadata": {
            "tags": []
          },
          "execution_count": 53
        }
      ]
    },
    {
      "cell_type": "code",
      "metadata": {
        "id": "MPu5DPAmBmC8",
        "colab": {
          "base_uri": "https://localhost:8080/"
        },
        "outputId": "dd1079d2-5829-45fe-ca74-f3d0db27473b"
      },
      "source": [
        "accuracy_score(y_train,logit.predict(x_train))"
      ],
      "execution_count": 54,
      "outputs": [
        {
          "output_type": "execute_result",
          "data": {
            "text/plain": [
              "0.7772888888888889"
            ]
          },
          "metadata": {
            "tags": []
          },
          "execution_count": 54
        }
      ]
    },
    {
      "cell_type": "code",
      "metadata": {
        "id": "QvGT9yNHBmI8",
        "colab": {
          "base_uri": "https://localhost:8080/"
        },
        "outputId": "54437f27-f348-42e8-b928-db1f58a383bd"
      },
      "source": [
        "#Accuracy Score\n",
        "accuracy_score(y_test,logit.predict(x_test))"
      ],
      "execution_count": 55,
      "outputs": [
        {
          "output_type": "execute_result",
          "data": {
            "text/plain": [
              "0.7830666666666667"
            ]
          },
          "metadata": {
            "tags": []
          },
          "execution_count": 55
        }
      ]
    },
    {
      "cell_type": "code",
      "metadata": {
        "id": "2Z33gE6qDndK",
        "colab": {
          "base_uri": "https://localhost:8080/"
        },
        "outputId": "d9af7cc2-ab92-40cf-ab60-1dbef60374ee"
      },
      "source": [
        "# Classification Report\n",
        "print(met.classification_report(y_test,logit.predict(x_test)))"
      ],
      "execution_count": 56,
      "outputs": [
        {
          "output_type": "stream",
          "text": [
            "              precision    recall  f1-score   support\n",
            "\n",
            "           0       0.78      1.00      0.88      5873\n",
            "           1       0.00      0.00      0.00      1627\n",
            "\n",
            "    accuracy                           0.78      7500\n",
            "   macro avg       0.39      0.50      0.44      7500\n",
            "weighted avg       0.61      0.78      0.69      7500\n",
            "\n"
          ],
          "name": "stdout"
        },
        {
          "output_type": "stream",
          "text": [
            "/usr/local/lib/python3.7/dist-packages/sklearn/metrics/_classification.py:1272: UndefinedMetricWarning:\n",
            "\n",
            "Precision and F-score are ill-defined and being set to 0.0 in labels with no predicted samples. Use `zero_division` parameter to control this behavior.\n",
            "\n"
          ],
          "name": "stderr"
        }
      ]
    },
    {
      "cell_type": "code",
      "metadata": {
        "id": "KJMz_2HrDnkS"
      },
      "source": [
        ""
      ],
      "execution_count": 56,
      "outputs": []
    },
    {
      "cell_type": "code",
      "metadata": {
        "id": "k-a3quXGDnqp"
      },
      "source": [
        ""
      ],
      "execution_count": 56,
      "outputs": []
    },
    {
      "cell_type": "markdown",
      "metadata": {
        "id": "iXsGxFn5mPnl"
      },
      "source": [
        "## Decision Tree"
      ]
    },
    {
      "cell_type": "code",
      "metadata": {
        "id": "zw7ETTy9mPud"
      },
      "source": [
        "from sklearn.tree import DecisionTreeClassifier"
      ],
      "execution_count": 57,
      "outputs": []
    },
    {
      "cell_type": "code",
      "metadata": {
        "id": "nSjKAHxAmP0t",
        "colab": {
          "base_uri": "https://localhost:8080/"
        },
        "outputId": "12b1203d-1f2b-4698-b9e5-777087463bba"
      },
      "source": [
        "dt= DecisionTreeClassifier(class_weight=\"balanced\")\n",
        "dt.fit(x_train,y_train)"
      ],
      "execution_count": 58,
      "outputs": [
        {
          "output_type": "execute_result",
          "data": {
            "text/plain": [
              "DecisionTreeClassifier(ccp_alpha=0.0, class_weight='balanced', criterion='gini',\n",
              "                       max_depth=None, max_features=None, max_leaf_nodes=None,\n",
              "                       min_impurity_decrease=0.0, min_impurity_split=None,\n",
              "                       min_samples_leaf=1, min_samples_split=2,\n",
              "                       min_weight_fraction_leaf=0.0, presort='deprecated',\n",
              "                       random_state=None, splitter='best')"
            ]
          },
          "metadata": {
            "tags": []
          },
          "execution_count": 58
        }
      ]
    },
    {
      "cell_type": "code",
      "metadata": {
        "id": "1GzN2_x3mP6p",
        "colab": {
          "base_uri": "https://localhost:8080/"
        },
        "outputId": "e592141c-fe59-4bd0-896d-4dea58b13355"
      },
      "source": [
        "accuracy_score(y_test,dt.predict(x_test))"
      ],
      "execution_count": 59,
      "outputs": [
        {
          "output_type": "execute_result",
          "data": {
            "text/plain": [
              "0.7345333333333334"
            ]
          },
          "metadata": {
            "tags": []
          },
          "execution_count": 59
        }
      ]
    },
    {
      "cell_type": "code",
      "metadata": {
        "id": "aMcSlczK7uGj",
        "colab": {
          "base_uri": "https://localhost:8080/"
        },
        "outputId": "fb486faf-85fd-4d99-f81c-ccd3ff54d43e"
      },
      "source": [
        "print(met.classification_report(y_test,dt.predict(x_test)))"
      ],
      "execution_count": 60,
      "outputs": [
        {
          "output_type": "stream",
          "text": [
            "              precision    recall  f1-score   support\n",
            "\n",
            "           0       0.83      0.83      0.83      5873\n",
            "           1       0.39      0.38      0.38      1627\n",
            "\n",
            "    accuracy                           0.73      7500\n",
            "   macro avg       0.61      0.61      0.61      7500\n",
            "weighted avg       0.73      0.73      0.73      7500\n",
            "\n"
          ],
          "name": "stdout"
        }
      ]
    },
    {
      "cell_type": "code",
      "metadata": {
        "id": "kQTrvW3UCnuG"
      },
      "source": [
        ""
      ],
      "execution_count": 60,
      "outputs": []
    },
    {
      "cell_type": "code",
      "metadata": {
        "id": "Y-4-wzR3XdGz"
      },
      "source": [
        ""
      ],
      "execution_count": 60,
      "outputs": []
    },
    {
      "cell_type": "markdown",
      "metadata": {
        "id": "lakPQXqvVRUq"
      },
      "source": [
        "##Gradient Boosting Classifier"
      ]
    },
    {
      "cell_type": "code",
      "metadata": {
        "id": "1IXgRiLxCn3e"
      },
      "source": [
        "from sklearn.ensemble import GradientBoostingClassifier"
      ],
      "execution_count": 61,
      "outputs": []
    },
    {
      "cell_type": "code",
      "metadata": {
        "id": "fn2WbrIXCn8N",
        "colab": {
          "base_uri": "https://localhost:8080/"
        },
        "outputId": "b4f1fce4-8fda-405b-ebe9-3e79bab486d6"
      },
      "source": [
        "gboost = GradientBoostingClassifier()\n",
        "gboost.fit(x_train,y_train)"
      ],
      "execution_count": 62,
      "outputs": [
        {
          "output_type": "execute_result",
          "data": {
            "text/plain": [
              "GradientBoostingClassifier(ccp_alpha=0.0, criterion='friedman_mse', init=None,\n",
              "                           learning_rate=0.1, loss='deviance', max_depth=3,\n",
              "                           max_features=None, max_leaf_nodes=None,\n",
              "                           min_impurity_decrease=0.0, min_impurity_split=None,\n",
              "                           min_samples_leaf=1, min_samples_split=2,\n",
              "                           min_weight_fraction_leaf=0.0, n_estimators=100,\n",
              "                           n_iter_no_change=None, presort='deprecated',\n",
              "                           random_state=None, subsample=1.0, tol=0.0001,\n",
              "                           validation_fraction=0.1, verbose=0,\n",
              "                           warm_start=False)"
            ]
          },
          "metadata": {
            "tags": []
          },
          "execution_count": 62
        }
      ]
    },
    {
      "cell_type": "code",
      "metadata": {
        "id": "wEv5IM1yCoAi",
        "colab": {
          "base_uri": "https://localhost:8080/"
        },
        "outputId": "1d02a3b4-9c1a-4ea0-90a5-114f76eb52b6"
      },
      "source": [
        "accuracy_score(y_train,gboost.predict(x_train))"
      ],
      "execution_count": 63,
      "outputs": [
        {
          "output_type": "execute_result",
          "data": {
            "text/plain": [
              "0.8268444444444445"
            ]
          },
          "metadata": {
            "tags": []
          },
          "execution_count": 63
        }
      ]
    },
    {
      "cell_type": "code",
      "metadata": {
        "id": "PFwfpdF3DW3h",
        "colab": {
          "base_uri": "https://localhost:8080/"
        },
        "outputId": "8e09407d-16e0-4991-8f5a-86bd315d2099"
      },
      "source": [
        "accuracy_score(y_test,gboost.predict(x_test))"
      ],
      "execution_count": 64,
      "outputs": [
        {
          "output_type": "execute_result",
          "data": {
            "text/plain": [
              "0.8196"
            ]
          },
          "metadata": {
            "tags": []
          },
          "execution_count": 64
        }
      ]
    },
    {
      "cell_type": "code",
      "metadata": {
        "id": "ZoChb6XZeVLF"
      },
      "source": [
        "from sklearn.model_selection import GridSearchCV\n",
        "\n",
        "#number of trees\n",
        "n_estimators = [100,120]\n",
        "\n",
        "#Maximum depth of tree\n",
        "max_depth = [6,8]\n",
        "\n",
        "# Minimum number of samples required to split a node\n",
        "min_samples_split = [50,100]\n",
        "\n",
        "# Minimum number of samples required at each leaf node\n",
        "min_samples_leaf = [40,50]\n",
        "\n",
        "param_dict = {'n_estimators' : n_estimators,\n",
        "              'max_depth' : max_depth,\n",
        "              'min_samples_split' : min_samples_split,\n",
        "              'min_samples_leaf' : min_samples_leaf}\n"
      ],
      "execution_count": 65,
      "outputs": []
    },
    {
      "cell_type": "code",
      "metadata": {
        "id": "5CMa_4UtebNk",
        "colab": {
          "base_uri": "https://localhost:8080/"
        },
        "outputId": "5faa09a3-5175-4b1b-f986-674281db4704"
      },
      "source": [
        "gboost2= GradientBoostingClassifier()\n",
        "gb_grid =GridSearchCV(estimator=gboost2, param_grid = param_dict,cv = 5, verbose=2)\n",
        "gb_grid.fit(x_train,y_train)"
      ],
      "execution_count": 66,
      "outputs": [
        {
          "output_type": "stream",
          "text": [
            "Fitting 5 folds for each of 16 candidates, totalling 80 fits\n",
            "[CV] max_depth=6, min_samples_leaf=40, min_samples_split=50, n_estimators=100 \n"
          ],
          "name": "stdout"
        },
        {
          "output_type": "stream",
          "text": [
            "[Parallel(n_jobs=1)]: Using backend SequentialBackend with 1 concurrent workers.\n"
          ],
          "name": "stderr"
        },
        {
          "output_type": "stream",
          "text": [
            "[CV]  max_depth=6, min_samples_leaf=40, min_samples_split=50, n_estimators=100, total=  15.5s\n",
            "[CV] max_depth=6, min_samples_leaf=40, min_samples_split=50, n_estimators=100 \n"
          ],
          "name": "stdout"
        },
        {
          "output_type": "stream",
          "text": [
            "[Parallel(n_jobs=1)]: Done   1 out of   1 | elapsed:   15.5s remaining:    0.0s\n"
          ],
          "name": "stderr"
        },
        {
          "output_type": "stream",
          "text": [
            "[CV]  max_depth=6, min_samples_leaf=40, min_samples_split=50, n_estimators=100, total=  15.4s\n",
            "[CV] max_depth=6, min_samples_leaf=40, min_samples_split=50, n_estimators=100 \n",
            "[CV]  max_depth=6, min_samples_leaf=40, min_samples_split=50, n_estimators=100, total=  15.2s\n",
            "[CV] max_depth=6, min_samples_leaf=40, min_samples_split=50, n_estimators=100 \n",
            "[CV]  max_depth=6, min_samples_leaf=40, min_samples_split=50, n_estimators=100, total=  15.3s\n",
            "[CV] max_depth=6, min_samples_leaf=40, min_samples_split=50, n_estimators=100 \n",
            "[CV]  max_depth=6, min_samples_leaf=40, min_samples_split=50, n_estimators=100, total=  15.3s\n",
            "[CV] max_depth=6, min_samples_leaf=40, min_samples_split=50, n_estimators=120 \n",
            "[CV]  max_depth=6, min_samples_leaf=40, min_samples_split=50, n_estimators=120, total=  18.3s\n",
            "[CV] max_depth=6, min_samples_leaf=40, min_samples_split=50, n_estimators=120 \n",
            "[CV]  max_depth=6, min_samples_leaf=40, min_samples_split=50, n_estimators=120, total=  18.3s\n",
            "[CV] max_depth=6, min_samples_leaf=40, min_samples_split=50, n_estimators=120 \n",
            "[CV]  max_depth=6, min_samples_leaf=40, min_samples_split=50, n_estimators=120, total=  18.3s\n",
            "[CV] max_depth=6, min_samples_leaf=40, min_samples_split=50, n_estimators=120 \n",
            "[CV]  max_depth=6, min_samples_leaf=40, min_samples_split=50, n_estimators=120, total=  18.4s\n",
            "[CV] max_depth=6, min_samples_leaf=40, min_samples_split=50, n_estimators=120 \n",
            "[CV]  max_depth=6, min_samples_leaf=40, min_samples_split=50, n_estimators=120, total=  18.4s\n",
            "[CV] max_depth=6, min_samples_leaf=40, min_samples_split=100, n_estimators=100 \n",
            "[CV]  max_depth=6, min_samples_leaf=40, min_samples_split=100, n_estimators=100, total=  15.3s\n",
            "[CV] max_depth=6, min_samples_leaf=40, min_samples_split=100, n_estimators=100 \n",
            "[CV]  max_depth=6, min_samples_leaf=40, min_samples_split=100, n_estimators=100, total=  15.2s\n",
            "[CV] max_depth=6, min_samples_leaf=40, min_samples_split=100, n_estimators=100 \n",
            "[CV]  max_depth=6, min_samples_leaf=40, min_samples_split=100, n_estimators=100, total=  15.1s\n",
            "[CV] max_depth=6, min_samples_leaf=40, min_samples_split=100, n_estimators=100 \n",
            "[CV]  max_depth=6, min_samples_leaf=40, min_samples_split=100, n_estimators=100, total=  15.2s\n",
            "[CV] max_depth=6, min_samples_leaf=40, min_samples_split=100, n_estimators=100 \n",
            "[CV]  max_depth=6, min_samples_leaf=40, min_samples_split=100, n_estimators=100, total=  15.1s\n",
            "[CV] max_depth=6, min_samples_leaf=40, min_samples_split=100, n_estimators=120 \n",
            "[CV]  max_depth=6, min_samples_leaf=40, min_samples_split=100, n_estimators=120, total=  18.2s\n",
            "[CV] max_depth=6, min_samples_leaf=40, min_samples_split=100, n_estimators=120 \n",
            "[CV]  max_depth=6, min_samples_leaf=40, min_samples_split=100, n_estimators=120, total=  18.1s\n",
            "[CV] max_depth=6, min_samples_leaf=40, min_samples_split=100, n_estimators=120 \n",
            "[CV]  max_depth=6, min_samples_leaf=40, min_samples_split=100, n_estimators=120, total=  18.1s\n",
            "[CV] max_depth=6, min_samples_leaf=40, min_samples_split=100, n_estimators=120 \n",
            "[CV]  max_depth=6, min_samples_leaf=40, min_samples_split=100, n_estimators=120, total=  18.2s\n",
            "[CV] max_depth=6, min_samples_leaf=40, min_samples_split=100, n_estimators=120 \n",
            "[CV]  max_depth=6, min_samples_leaf=40, min_samples_split=100, n_estimators=120, total=  18.1s\n",
            "[CV] max_depth=6, min_samples_leaf=50, min_samples_split=50, n_estimators=100 \n",
            "[CV]  max_depth=6, min_samples_leaf=50, min_samples_split=50, n_estimators=100, total=  15.1s\n",
            "[CV] max_depth=6, min_samples_leaf=50, min_samples_split=50, n_estimators=100 \n",
            "[CV]  max_depth=6, min_samples_leaf=50, min_samples_split=50, n_estimators=100, total=  15.1s\n",
            "[CV] max_depth=6, min_samples_leaf=50, min_samples_split=50, n_estimators=100 \n",
            "[CV]  max_depth=6, min_samples_leaf=50, min_samples_split=50, n_estimators=100, total=  15.1s\n",
            "[CV] max_depth=6, min_samples_leaf=50, min_samples_split=50, n_estimators=100 \n",
            "[CV]  max_depth=6, min_samples_leaf=50, min_samples_split=50, n_estimators=100, total=  15.1s\n",
            "[CV] max_depth=6, min_samples_leaf=50, min_samples_split=50, n_estimators=100 \n",
            "[CV]  max_depth=6, min_samples_leaf=50, min_samples_split=50, n_estimators=100, total=  15.2s\n",
            "[CV] max_depth=6, min_samples_leaf=50, min_samples_split=50, n_estimators=120 \n",
            "[CV]  max_depth=6, min_samples_leaf=50, min_samples_split=50, n_estimators=120, total=  18.1s\n",
            "[CV] max_depth=6, min_samples_leaf=50, min_samples_split=50, n_estimators=120 \n",
            "[CV]  max_depth=6, min_samples_leaf=50, min_samples_split=50, n_estimators=120, total=  18.2s\n",
            "[CV] max_depth=6, min_samples_leaf=50, min_samples_split=50, n_estimators=120 \n",
            "[CV]  max_depth=6, min_samples_leaf=50, min_samples_split=50, n_estimators=120, total=  18.2s\n",
            "[CV] max_depth=6, min_samples_leaf=50, min_samples_split=50, n_estimators=120 \n",
            "[CV]  max_depth=6, min_samples_leaf=50, min_samples_split=50, n_estimators=120, total=  18.2s\n",
            "[CV] max_depth=6, min_samples_leaf=50, min_samples_split=50, n_estimators=120 \n",
            "[CV]  max_depth=6, min_samples_leaf=50, min_samples_split=50, n_estimators=120, total=  18.2s\n",
            "[CV] max_depth=6, min_samples_leaf=50, min_samples_split=100, n_estimators=100 \n",
            "[CV]  max_depth=6, min_samples_leaf=50, min_samples_split=100, n_estimators=100, total=  15.1s\n",
            "[CV] max_depth=6, min_samples_leaf=50, min_samples_split=100, n_estimators=100 \n",
            "[CV]  max_depth=6, min_samples_leaf=50, min_samples_split=100, n_estimators=100, total=  15.1s\n",
            "[CV] max_depth=6, min_samples_leaf=50, min_samples_split=100, n_estimators=100 \n",
            "[CV]  max_depth=6, min_samples_leaf=50, min_samples_split=100, n_estimators=100, total=  15.2s\n",
            "[CV] max_depth=6, min_samples_leaf=50, min_samples_split=100, n_estimators=100 \n",
            "[CV]  max_depth=6, min_samples_leaf=50, min_samples_split=100, n_estimators=100, total=  15.2s\n",
            "[CV] max_depth=6, min_samples_leaf=50, min_samples_split=100, n_estimators=100 \n",
            "[CV]  max_depth=6, min_samples_leaf=50, min_samples_split=100, n_estimators=100, total=  15.2s\n",
            "[CV] max_depth=6, min_samples_leaf=50, min_samples_split=100, n_estimators=120 \n",
            "[CV]  max_depth=6, min_samples_leaf=50, min_samples_split=100, n_estimators=120, total=  18.2s\n",
            "[CV] max_depth=6, min_samples_leaf=50, min_samples_split=100, n_estimators=120 \n",
            "[CV]  max_depth=6, min_samples_leaf=50, min_samples_split=100, n_estimators=120, total=  18.2s\n",
            "[CV] max_depth=6, min_samples_leaf=50, min_samples_split=100, n_estimators=120 \n",
            "[CV]  max_depth=6, min_samples_leaf=50, min_samples_split=100, n_estimators=120, total=  18.1s\n",
            "[CV] max_depth=6, min_samples_leaf=50, min_samples_split=100, n_estimators=120 \n",
            "[CV]  max_depth=6, min_samples_leaf=50, min_samples_split=100, n_estimators=120, total=  18.2s\n",
            "[CV] max_depth=6, min_samples_leaf=50, min_samples_split=100, n_estimators=120 \n",
            "[CV]  max_depth=6, min_samples_leaf=50, min_samples_split=100, n_estimators=120, total=  18.2s\n",
            "[CV] max_depth=8, min_samples_leaf=40, min_samples_split=50, n_estimators=100 \n",
            "[CV]  max_depth=8, min_samples_leaf=40, min_samples_split=50, n_estimators=100, total=  19.7s\n",
            "[CV] max_depth=8, min_samples_leaf=40, min_samples_split=50, n_estimators=100 \n",
            "[CV]  max_depth=8, min_samples_leaf=40, min_samples_split=50, n_estimators=100, total=  19.7s\n",
            "[CV] max_depth=8, min_samples_leaf=40, min_samples_split=50, n_estimators=100 \n",
            "[CV]  max_depth=8, min_samples_leaf=40, min_samples_split=50, n_estimators=100, total=  19.6s\n",
            "[CV] max_depth=8, min_samples_leaf=40, min_samples_split=50, n_estimators=100 \n",
            "[CV]  max_depth=8, min_samples_leaf=40, min_samples_split=50, n_estimators=100, total=  19.6s\n",
            "[CV] max_depth=8, min_samples_leaf=40, min_samples_split=50, n_estimators=100 \n",
            "[CV]  max_depth=8, min_samples_leaf=40, min_samples_split=50, n_estimators=100, total=  19.7s\n",
            "[CV] max_depth=8, min_samples_leaf=40, min_samples_split=50, n_estimators=120 \n",
            "[CV]  max_depth=8, min_samples_leaf=40, min_samples_split=50, n_estimators=120, total=  23.7s\n",
            "[CV] max_depth=8, min_samples_leaf=40, min_samples_split=50, n_estimators=120 \n",
            "[CV]  max_depth=8, min_samples_leaf=40, min_samples_split=50, n_estimators=120, total=  23.7s\n",
            "[CV] max_depth=8, min_samples_leaf=40, min_samples_split=50, n_estimators=120 \n",
            "[CV]  max_depth=8, min_samples_leaf=40, min_samples_split=50, n_estimators=120, total=  23.6s\n",
            "[CV] max_depth=8, min_samples_leaf=40, min_samples_split=50, n_estimators=120 \n",
            "[CV]  max_depth=8, min_samples_leaf=40, min_samples_split=50, n_estimators=120, total=  23.7s\n",
            "[CV] max_depth=8, min_samples_leaf=40, min_samples_split=50, n_estimators=120 \n",
            "[CV]  max_depth=8, min_samples_leaf=40, min_samples_split=50, n_estimators=120, total=  23.7s\n",
            "[CV] max_depth=8, min_samples_leaf=40, min_samples_split=100, n_estimators=100 \n",
            "[CV]  max_depth=8, min_samples_leaf=40, min_samples_split=100, n_estimators=100, total=  19.7s\n",
            "[CV] max_depth=8, min_samples_leaf=40, min_samples_split=100, n_estimators=100 \n",
            "[CV]  max_depth=8, min_samples_leaf=40, min_samples_split=100, n_estimators=100, total=  19.7s\n",
            "[CV] max_depth=8, min_samples_leaf=40, min_samples_split=100, n_estimators=100 \n",
            "[CV]  max_depth=8, min_samples_leaf=40, min_samples_split=100, n_estimators=100, total=  19.6s\n",
            "[CV] max_depth=8, min_samples_leaf=40, min_samples_split=100, n_estimators=100 \n",
            "[CV]  max_depth=8, min_samples_leaf=40, min_samples_split=100, n_estimators=100, total=  19.7s\n",
            "[CV] max_depth=8, min_samples_leaf=40, min_samples_split=100, n_estimators=100 \n",
            "[CV]  max_depth=8, min_samples_leaf=40, min_samples_split=100, n_estimators=100, total=  19.7s\n",
            "[CV] max_depth=8, min_samples_leaf=40, min_samples_split=100, n_estimators=120 \n",
            "[CV]  max_depth=8, min_samples_leaf=40, min_samples_split=100, n_estimators=120, total=  23.6s\n",
            "[CV] max_depth=8, min_samples_leaf=40, min_samples_split=100, n_estimators=120 \n",
            "[CV]  max_depth=8, min_samples_leaf=40, min_samples_split=100, n_estimators=120, total=  23.7s\n",
            "[CV] max_depth=8, min_samples_leaf=40, min_samples_split=100, n_estimators=120 \n",
            "[CV]  max_depth=8, min_samples_leaf=40, min_samples_split=100, n_estimators=120, total=  23.5s\n",
            "[CV] max_depth=8, min_samples_leaf=40, min_samples_split=100, n_estimators=120 \n",
            "[CV]  max_depth=8, min_samples_leaf=40, min_samples_split=100, n_estimators=120, total=  23.7s\n",
            "[CV] max_depth=8, min_samples_leaf=40, min_samples_split=100, n_estimators=120 \n",
            "[CV]  max_depth=8, min_samples_leaf=40, min_samples_split=100, n_estimators=120, total=  23.7s\n",
            "[CV] max_depth=8, min_samples_leaf=50, min_samples_split=50, n_estimators=100 \n",
            "[CV]  max_depth=8, min_samples_leaf=50, min_samples_split=50, n_estimators=100, total=  19.7s\n",
            "[CV] max_depth=8, min_samples_leaf=50, min_samples_split=50, n_estimators=100 \n",
            "[CV]  max_depth=8, min_samples_leaf=50, min_samples_split=50, n_estimators=100, total=  19.6s\n",
            "[CV] max_depth=8, min_samples_leaf=50, min_samples_split=50, n_estimators=100 \n",
            "[CV]  max_depth=8, min_samples_leaf=50, min_samples_split=50, n_estimators=100, total=  19.6s\n",
            "[CV] max_depth=8, min_samples_leaf=50, min_samples_split=50, n_estimators=100 \n",
            "[CV]  max_depth=8, min_samples_leaf=50, min_samples_split=50, n_estimators=100, total=  19.6s\n",
            "[CV] max_depth=8, min_samples_leaf=50, min_samples_split=50, n_estimators=100 \n",
            "[CV]  max_depth=8, min_samples_leaf=50, min_samples_split=50, n_estimators=100, total=  19.7s\n",
            "[CV] max_depth=8, min_samples_leaf=50, min_samples_split=50, n_estimators=120 \n",
            "[CV]  max_depth=8, min_samples_leaf=50, min_samples_split=50, n_estimators=120, total=  23.7s\n",
            "[CV] max_depth=8, min_samples_leaf=50, min_samples_split=50, n_estimators=120 \n",
            "[CV]  max_depth=8, min_samples_leaf=50, min_samples_split=50, n_estimators=120, total=  23.6s\n",
            "[CV] max_depth=8, min_samples_leaf=50, min_samples_split=50, n_estimators=120 \n",
            "[CV]  max_depth=8, min_samples_leaf=50, min_samples_split=50, n_estimators=120, total=  23.6s\n",
            "[CV] max_depth=8, min_samples_leaf=50, min_samples_split=50, n_estimators=120 \n",
            "[CV]  max_depth=8, min_samples_leaf=50, min_samples_split=50, n_estimators=120, total=  23.5s\n",
            "[CV] max_depth=8, min_samples_leaf=50, min_samples_split=50, n_estimators=120 \n",
            "[CV]  max_depth=8, min_samples_leaf=50, min_samples_split=50, n_estimators=120, total=  23.5s\n",
            "[CV] max_depth=8, min_samples_leaf=50, min_samples_split=100, n_estimators=100 \n",
            "[CV]  max_depth=8, min_samples_leaf=50, min_samples_split=100, n_estimators=100, total=  19.7s\n",
            "[CV] max_depth=8, min_samples_leaf=50, min_samples_split=100, n_estimators=100 \n",
            "[CV]  max_depth=8, min_samples_leaf=50, min_samples_split=100, n_estimators=100, total=  19.7s\n",
            "[CV] max_depth=8, min_samples_leaf=50, min_samples_split=100, n_estimators=100 \n",
            "[CV]  max_depth=8, min_samples_leaf=50, min_samples_split=100, n_estimators=100, total=  19.6s\n",
            "[CV] max_depth=8, min_samples_leaf=50, min_samples_split=100, n_estimators=100 \n",
            "[CV]  max_depth=8, min_samples_leaf=50, min_samples_split=100, n_estimators=100, total=  19.7s\n",
            "[CV] max_depth=8, min_samples_leaf=50, min_samples_split=100, n_estimators=100 \n",
            "[CV]  max_depth=8, min_samples_leaf=50, min_samples_split=100, n_estimators=100, total=  19.6s\n",
            "[CV] max_depth=8, min_samples_leaf=50, min_samples_split=100, n_estimators=120 \n",
            "[CV]  max_depth=8, min_samples_leaf=50, min_samples_split=100, n_estimators=120, total=  23.5s\n",
            "[CV] max_depth=8, min_samples_leaf=50, min_samples_split=100, n_estimators=120 \n",
            "[CV]  max_depth=8, min_samples_leaf=50, min_samples_split=100, n_estimators=120, total=  23.5s\n",
            "[CV] max_depth=8, min_samples_leaf=50, min_samples_split=100, n_estimators=120 \n",
            "[CV]  max_depth=8, min_samples_leaf=50, min_samples_split=100, n_estimators=120, total=  23.5s\n",
            "[CV] max_depth=8, min_samples_leaf=50, min_samples_split=100, n_estimators=120 \n",
            "[CV]  max_depth=8, min_samples_leaf=50, min_samples_split=100, n_estimators=120, total=  23.4s\n",
            "[CV] max_depth=8, min_samples_leaf=50, min_samples_split=100, n_estimators=120 \n",
            "[CV]  max_depth=8, min_samples_leaf=50, min_samples_split=100, n_estimators=120, total=  23.4s\n"
          ],
          "name": "stdout"
        },
        {
          "output_type": "stream",
          "text": [
            "[Parallel(n_jobs=1)]: Done  80 out of  80 | elapsed: 25.6min finished\n"
          ],
          "name": "stderr"
        },
        {
          "output_type": "execute_result",
          "data": {
            "text/plain": [
              "GridSearchCV(cv=5, error_score=nan,\n",
              "             estimator=GradientBoostingClassifier(ccp_alpha=0.0,\n",
              "                                                  criterion='friedman_mse',\n",
              "                                                  init=None, learning_rate=0.1,\n",
              "                                                  loss='deviance', max_depth=3,\n",
              "                                                  max_features=None,\n",
              "                                                  max_leaf_nodes=None,\n",
              "                                                  min_impurity_decrease=0.0,\n",
              "                                                  min_impurity_split=None,\n",
              "                                                  min_samples_leaf=1,\n",
              "                                                  min_samples_split=2,\n",
              "                                                  min_weight_fraction_leaf=0.0,\n",
              "                                                  n_estimators=100,\n",
              "                                                  n_iter_no_change=None,\n",
              "                                                  presort='deprecated',\n",
              "                                                  random_state=None,\n",
              "                                                  subsample=1.0, tol=0.0001,\n",
              "                                                  validation_fraction=0.1,\n",
              "                                                  verbose=0, warm_start=False),\n",
              "             iid='deprecated', n_jobs=None,\n",
              "             param_grid={'max_depth': [6, 8], 'min_samples_leaf': [40, 50],\n",
              "                         'min_samples_split': [50, 100],\n",
              "                         'n_estimators': [100, 120]},\n",
              "             pre_dispatch='2*n_jobs', refit=True, return_train_score=False,\n",
              "             scoring=None, verbose=2)"
            ]
          },
          "metadata": {
            "tags": []
          },
          "execution_count": 66
        }
      ]
    },
    {
      "cell_type": "code",
      "metadata": {
        "id": "egCQYfW1ejHq",
        "colab": {
          "base_uri": "https://localhost:8080/"
        },
        "outputId": "022ddd72-91c7-42ab-98fb-b35ff4cdb1da"
      },
      "source": [
        "accuracy_score(y_train,gb_grid.predict(x_train))"
      ],
      "execution_count": 67,
      "outputs": [
        {
          "output_type": "execute_result",
          "data": {
            "text/plain": [
              "0.8477333333333333"
            ]
          },
          "metadata": {
            "tags": []
          },
          "execution_count": 67
        }
      ]
    },
    {
      "cell_type": "code",
      "metadata": {
        "id": "nuZzq5j7Tjzz",
        "colab": {
          "base_uri": "https://localhost:8080/"
        },
        "outputId": "a3459434-b2cb-440d-bc7c-c6010d686c54"
      },
      "source": [
        "accuracy_score(y_test,gb_grid.predict(x_test))"
      ],
      "execution_count": 69,
      "outputs": [
        {
          "output_type": "execute_result",
          "data": {
            "text/plain": [
              "0.8198666666666666"
            ]
          },
          "metadata": {
            "tags": []
          },
          "execution_count": 69
        }
      ]
    },
    {
      "cell_type": "code",
      "metadata": {
        "id": "q0Ex8IiPnYU-"
      },
      "source": [
        ""
      ],
      "execution_count": 68,
      "outputs": []
    },
    {
      "cell_type": "code",
      "metadata": {
        "id": "ug3WGMCgXdBk"
      },
      "source": [
        ""
      ],
      "execution_count": 68,
      "outputs": []
    },
    {
      "cell_type": "code",
      "metadata": {
        "id": "0S1uhFR4nYjH"
      },
      "source": [
        ""
      ],
      "execution_count": 68,
      "outputs": []
    },
    {
      "cell_type": "markdown",
      "metadata": {
        "id": "2DjVCVYRXc7S"
      },
      "source": [
        "##Random Forest"
      ]
    },
    {
      "cell_type": "code",
      "metadata": {
        "id": "scdWnC6WnYvm"
      },
      "source": [
        ""
      ],
      "execution_count": 68,
      "outputs": []
    }
  ]
}